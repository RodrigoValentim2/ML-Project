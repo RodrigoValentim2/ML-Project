{
 "cells": [
  {
   "cell_type": "code",
   "execution_count": 9,
   "metadata": {},
   "outputs": [],
   "source": [
    "import pandas as pd\n",
    "import numpy as np\n",
    "from scipy.spatial.distance import pdist, squareform\n",
    "import math\n",
    "from sklearn.preprocessing import StandardScaler\n",
    "from tqdm import tqdm\n",
    "from time import sleep\n",
    "from tqdm import trange\n",
    "from sklearn.model_selection import train_test_split\n",
    "from sklearn.naive_bayes import GaussianNB\n",
    "import math as mt\n",
    "from numpy.linalg import inv, det\n",
    "from matplotlib import pyplot as plt\n",
    "%matplotlib inline"
   ]
  },
  {
   "cell_type": "markdown",
   "metadata": {},
   "source": [
    "## Read data"
   ]
  },
  {
   "cell_type": "code",
   "execution_count": 10,
   "metadata": {},
   "outputs": [],
   "source": [
    "mfeat = pd.read_csv(\"mfeat/mfeat-fac\", delimiter=\"\\0\", sep=\"\\0\", header=None )\n",
    "mfeatFou = pd.read_csv(\"mfeat/mfeat-fou\", delimiter=\"\\0\", sep=\"\\0\", header=None )\n",
    "mfeatka = pd.read_csv(\"mfeat/mfeat-kar\", delimiter=\"\\0\", sep=\"\\0\", header=None )\n",
    "\n",
    "y = [0 for x in range(0, 200)]\n",
    "y += [1 for x in range(200, 400)]\n",
    "y += [2 for x in range(400, 600)]\n",
    "y += [3 for x in range(600, 800)]\n",
    "y += [4 for x in range(800, 1000)]\n",
    "y += [5 for x in range(1000, 1200)]\n",
    "y += [6 for x in range(1200, 1400)]\n",
    "y += [7 for x in range(1400, 1600)]\n",
    "y += [8 for x in range(1600, 1800)]\n",
    "y += [9 for x in range(1800, 2000)]"
   ]
  },
  {
   "cell_type": "markdown",
   "metadata": {},
   "source": [
    "mfeat"
   ]
  },
  {
   "cell_type": "markdown",
   "metadata": {},
   "source": [
    "### Data preprocessing"
   ]
  },
  {
   "cell_type": "code",
   "execution_count": 11,
   "metadata": {
    "scrolled": true
   },
   "outputs": [],
   "source": [
    "#Retirando os espaços. Transformando da elemento em uma lista com valores númericos, Atribuindo isso a uma \n",
    "# lista com tudo processado e normaliza\n",
    "def preprocessing(data):\n",
    "    new_data = []\n",
    "    for ex in data:\n",
    "        ex = ex[0].split(\" \")\n",
    "        exemplos1 = []\n",
    "        for element in ex:\n",
    "            if element != \"\":\n",
    "                exemplos1.append(element)\n",
    "        new_data.append(exemplos1) \n",
    "    \n",
    "    ## Normaliza\n",
    "    new_data = np.array(new_data).astype(float)\n",
    "    scaler = StandardScaler()\n",
    "    scaler.fit(new_data)\n",
    "    new_data = scaler.transform(new_data)\n",
    "    return new_data\n",
    "   \n"
   ]
  },
  {
   "cell_type": "code",
   "execution_count": 12,
   "metadata": {},
   "outputs": [],
   "source": [
    "mfeat =  preprocessing(mfeat.values)\n",
    "mfeatFou =  preprocessing(mfeatFou.values)\n",
    "mfeatKa =  preprocessing(mfeatka.values)"
   ]
  },
  {
   "cell_type": "markdown",
   "metadata": {},
   "source": [
    "# Dataset (Train and test)"
   ]
  },
  {
   "cell_type": "code",
   "execution_count": 51,
   "metadata": {},
   "outputs": [],
   "source": [
    "X_train_mfeat, X_test_mfeat, y_train_mfeat, y_test_mefeat =  train_test_split(mfeat,y, test_size=0.10, random_state=42)\n",
    "X_train_mfeatFou, X_test_mfeatFou, y_train_mfeatFou, y_test_mefeatFou =  train_test_split(mfeatFou,y, test_size=0.10, random_state=42)\n",
    "X_train_mfeatKa, X_test_mfeatKa, y_train_mfeatKa, y_test_mefeatKa =  train_test_split(mfeatKa,y, test_size=0.10, random_state=42)"
   ]
  },
  {
   "cell_type": "markdown",
   "metadata": {},
   "source": [
    "# Euclidean matrix "
   ]
  },
  {
   "cell_type": "code",
   "execution_count": 52,
   "metadata": {},
   "outputs": [],
   "source": [
    "matrix_euclian_mfeat = squareform(pdist(mfeat, metric='euclidean'))\n",
    "matrix_euclian_mfeatFou = squareform(pdist(mfeatFou, metric='euclidean'))\n",
    "matrix_euclian_mfeatKa = squareform(pdist(mfeatKa, metric='euclidean'))"
   ]
  },
  {
   "cell_type": "markdown",
   "metadata": {},
   "source": [
    "# Bayes"
   ]
  },
  {
   "cell_type": "code",
   "execution_count": 53,
   "metadata": {
    "scrolled": true
   },
   "outputs": [],
   "source": [
    "\n",
    "def calc_density(x, priori, mean, sigma, classes):\n",
    "    apriori = priori\n",
    "    mean = mean\n",
    "    sigma = sigma\n",
    "    classes = classes\n",
    "    x = x\n",
    "    densities = []\n",
    "\n",
    "    for c in range(0,classes):\n",
    "\n",
    "\n",
    "        ##determinant\n",
    "        inver = inv(np.identity(x.shape[0]) * sigma[c])\n",
    "        determinant= det(inver)\n",
    "\n",
    "        part_one_equation = mt.pow(2*mt.pi, -x.shape[0]/2)*mt.pow(determinant,0.5)\n",
    "\n",
    "        ## values for exp calculation\n",
    "        value1_exp = ((x -mean[c]).T)\n",
    "        value1_exp = np.dot(value1_exp, inver)\n",
    "      \n",
    "        value2_exp = (x-mean[c])\n",
    "\n",
    "        ##calc  exp\n",
    "        exp = np.exp(-0.5*(np.dot(value1_exp, value2_exp)))\n",
    "\n",
    "        #Result conditional x priori\n",
    "\n",
    "        rest = part_one_equation*exp\n",
    "\n",
    "        densities.append(rest*priori[c])\n",
    "        \n",
    "\n",
    "    return densities"
   ]
  },
  {
   "cell_type": "code",
   "execution_count": 107,
   "metadata": {},
   "outputs": [],
   "source": [
    "nb = GaussianNB()\n",
    "nb.fit(X_test_mfeatFou, y_test_mefeatFou);\n",
    "\n",
    "\n",
    "priori = nb.class_prior_\n",
    "sigma = nb.sigma_\n",
    "mean = nb.theta_\n",
    "classes = nb.classes_\n",
    "x = X_test_mfeatFou\n",
    "\n",
    "densities_mfeatFou= []\n",
    "for x in X_test_mfeatFou:\n",
    "    densities_mfeatFou.append(calc_density(x, priori, mean, sigma, 10))"
   ]
  },
  {
   "cell_type": "code",
   "execution_count": 108,
   "metadata": {},
   "outputs": [
    {
     "data": {
      "text/plain": [
       "[7.017156819282751e-189,\n",
       " 1.58020801148441e-63,\n",
       " 3.987019668031554e-90,\n",
       " 3.839342617918677e-52,\n",
       " 2.996101557931017e-50,\n",
       " 3.1107940888017266e-58,\n",
       " 2.71210508855404e-41,\n",
       " 9.597647543343547e-68,\n",
       " 1.957062765836054e-95,\n",
       " 4.3789518023229234e-41]"
      ]
     },
     "execution_count": 108,
     "metadata": {},
     "output_type": "execute_result"
    }
   ],
   "source": [
    "densities_mfeatFou[0]"
   ]
  },
  {
   "cell_type": "code",
   "execution_count": 115,
   "metadata": {},
   "outputs": [],
   "source": [
    "def posteriori():\n",
    "    pass"
   ]
  }
 ],
 "metadata": {
  "kernelspec": {
   "display_name": "Python 3",
   "language": "python",
   "name": "python3"
  },
  "language_info": {
   "codemirror_mode": {
    "name": "ipython",
    "version": 3
   },
   "file_extension": ".py",
   "mimetype": "text/x-python",
   "name": "python",
   "nbconvert_exporter": "python",
   "pygments_lexer": "ipython3",
   "version": "3.6.8"
  }
 },
 "nbformat": 4,
 "nbformat_minor": 2
}
