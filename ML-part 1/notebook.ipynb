{
 "cells": [
  {
   "cell_type": "code",
   "execution_count": 457,
   "metadata": {},
   "outputs": [],
   "source": [
    "import pandas as pd\n",
    "import numpy as np\n",
    "from scipy.spatial.distance import pdist, squareform\n",
    "import math\n",
    "from sklearn.preprocessing import StandardScaler, MinMaxScaler\n",
    "from tqdm import tqdm\n",
    "from time import sleep\n",
    "from tqdm import trange\n",
    "from sklearn.model_selection import train_test_split\n",
    "from sklearn.naive_bayes import GaussianNB\n",
    "import math as mt\n",
    "from numpy.linalg import inv, det\n",
    "from matplotlib import pyplot as plt\n",
    "%matplotlib inline"
   ]
  },
  {
   "cell_type": "markdown",
   "metadata": {},
   "source": [
    "## Read data"
   ]
  },
  {
   "cell_type": "code",
   "execution_count": 458,
   "metadata": {},
   "outputs": [],
   "source": [
    "mfeat = pd.read_csv(\"mfeat/mfeat-fac\", delimiter=\"\\0\", sep=\"\\0\", header=None )\n",
    "mfeatFou = pd.read_csv(\"mfeat/mfeat-fou\", delimiter=\"\\0\", sep=\"\\0\", header=None )\n",
    "mfeatka = pd.read_csv(\"mfeat/mfeat-kar\", delimiter=\"\\0\", sep=\"\\0\", header=None )\n",
    "\n",
    "y = [0 for x in range(0, 200)]\n",
    "y += [1 for x in range(200, 400)]\n",
    "y += [2 for x in range(400, 600)]\n",
    "y += [3 for x in range(600, 800)]\n",
    "y += [4 for x in range(800, 1000)]\n",
    "y += [5 for x in range(1000, 1200)]\n",
    "y += [6 for x in range(1200, 1400)]\n",
    "y += [7 for x in range(1400, 1600)]\n",
    "y += [8 for x in range(1600, 1800)]\n",
    "y += [9 for x in range(1800, 2000)]"
   ]
  },
  {
   "cell_type": "markdown",
   "metadata": {},
   "source": [
    "mfeat"
   ]
  },
  {
   "cell_type": "markdown",
   "metadata": {},
   "source": [
    "### Data preprocessing"
   ]
  },
  {
   "cell_type": "code",
   "execution_count": 459,
   "metadata": {
    "scrolled": true
   },
   "outputs": [],
   "source": [
    "#Retirando os espaços. Transformando da elemento em uma lista com valores númericos, Atribuindo isso a uma \n",
    "# lista com tudo processado e normaliza\n",
    "def preprocessing(data):\n",
    "    new_data = []\n",
    "    for ex in data:\n",
    "        ex = ex[0].split(\" \")\n",
    "        exemplos1 = []\n",
    "        for element in ex:\n",
    "            if element != \"\":\n",
    "                exemplos1.append(element)\n",
    "        new_data.append(exemplos1) \n",
    "    \n",
    "    ## Normaliza\n",
    "  \n",
    "    new_data = np.array(new_data).astype(float)\n",
    "    scaler = StandardScaler()\n",
    "    scaler.fit(new_data)\n",
    "    new_data = scaler.transform(new_data)\n",
    "    return new_data\n",
    "   \n"
   ]
  },
  {
   "cell_type": "code",
   "execution_count": 460,
   "metadata": {},
   "outputs": [],
   "source": [
    "mfeat =  preprocessing(mfeat.values)\n",
    "mfeatFou =  preprocessing(mfeatFou.values)\n",
    "mfeatKa =  preprocessing(mfeatka.values)"
   ]
  },
  {
   "cell_type": "markdown",
   "metadata": {},
   "source": [
    "# Dataset (Train and test)"
   ]
  },
  {
   "cell_type": "code",
   "execution_count": 461,
   "metadata": {},
   "outputs": [],
   "source": [
    "X_train_mfeat, X_test_mfeat, y_train_mfeat, y_test_mefeat =  train_test_split(mfeat,y, test_size=0.10, random_state=42)\n",
    "X_train_mfeatFou, X_test_mfeatFou, y_train_mfeatFou, y_test_mefeatFou =  train_test_split(mfeatFou,y, test_size=0.10, random_state=42)\n",
    "X_train_mfeatKa, X_test_mfeatKa, y_train_mfeatKa, y_test_mefeatKa =  train_test_split(mfeatKa,y, test_size=0.10, random_state=42)"
   ]
  },
  {
   "cell_type": "markdown",
   "metadata": {},
   "source": [
    "# Euclidean matrix "
   ]
  },
  {
   "cell_type": "code",
   "execution_count": 462,
   "metadata": {},
   "outputs": [],
   "source": [
    "matrix_euclian_mfeat = squareform(pdist(mfeat, metric='euclidean'))\n",
    "matrix_euclian_mfeatFou = squareform(pdist(mfeatFou, metric='euclidean'))\n",
    "matrix_euclian_mfeatKa = squareform(pdist(mfeatKa, metric='euclidean'))"
   ]
  },
  {
   "cell_type": "markdown",
   "metadata": {},
   "source": [
    "# Bayes"
   ]
  },
  {
   "cell_type": "code",
   "execution_count": 463,
   "metadata": {
    "scrolled": true
   },
   "outputs": [],
   "source": [
    "def calc_density(x, priori, mean, sigma, classes):\n",
    "    apriori = priori\n",
    "    mean = mean\n",
    "    sigma = sigma\n",
    "    classes = classes\n",
    "    x = x\n",
    "    densities = []\n",
    "\n",
    "    for c in range(0,classes):\n",
    "\n",
    "\n",
    "        ##determinant\n",
    "        inver = inv(np.identity(x.shape[0]) * sigma[c])\n",
    "        determinant= det(inver)\n",
    "\n",
    "        part_one_equation = mt.pow(2*mt.pi, -x.shape[0]/2)*mt.pow(determinant,0.5)\n",
    "\n",
    "        ## values for exp calculation\n",
    "        value1_exp = ((x -mean[c]).T)\n",
    "        value1_exp = np.dot(value1_exp, inver)\n",
    "      \n",
    "        value2_exp = (x-mean[c])\n",
    "\n",
    "        ##calc  exp\n",
    "        exp = np.exp(-0.5*(np.dot(value1_exp, value2_exp)))\n",
    "\n",
    "        #Result conditional x priori\n",
    "\n",
    "        rest = part_one_equation*exp\n",
    "\n",
    "        densities.append(rest*priori[c])\n",
    "        \n",
    "\n",
    "    return densities"
   ]
  },
  {
   "cell_type": "code",
   "execution_count": 464,
   "metadata": {},
   "outputs": [],
   "source": [
    "\n",
    "def densities_views():\n",
    "    nb = GaussianNB()\n",
    "    nb.fit(X_train_mfeat, y_train_mfeat);\n",
    "\n",
    "\n",
    "    priori = nb.class_prior_\n",
    "    sigma = nb.sigma_\n",
    "    mean = nb.theta_\n",
    "    classes = nb.classes_\n",
    " \n",
    "\n",
    "    densities_mfeat= []\n",
    "    for xi in X_train_mfeat:\n",
    "        densities_mfeat.append(calc_density(xi, priori, mean, sigma, 10))\n",
    "\n",
    "\n",
    "    nb = GaussianNB()\n",
    "    nb.fit(X_train_mfeatFou, y_train_mfeatFou);\n",
    "\n",
    "\n",
    "    priori = nb.class_prior_\n",
    "    sigma = nb.sigma_\n",
    "    mean = nb.theta_\n",
    "    classes = nb.classes_\n",
    "\n",
    "\n",
    "    densities_mfeatFou= []\n",
    "    for xi in X_train_mfeatFou:\n",
    "        densities_mfeatFou.append(calc_density(xi, priori, mean, sigma, 10))\n",
    "\n",
    "\n",
    "\n",
    "    nb = GaussianNB()\n",
    "    nb.fit(X_train_mfeatKa, y_train_mfeatKa);\n",
    "    priori = nb.class_prior_\n",
    "    sigma = nb.sigma_\n",
    "    mean = nb.theta_\n",
    "    classes = nb.classes_\n",
    "\n",
    "\n",
    "    densities_mfeatKa= []\n",
    "    for xi in X_train_mfeatKa:\n",
    "        densities_mfeatKa.append(calc_density(xi, priori, mean, sigma, 10))\n",
    "        \n",
    "        \n",
    "    return densities_mfeat,densities_mfeatFou, densities_mfeatKa\n",
    "    \n",
    "    "
   ]
  },
  {
   "cell_type": "code",
   "execution_count": 465,
   "metadata": {},
   "outputs": [],
   "source": [
    "densities_view1, densities_view2, densities_view3 = densities_views()"
   ]
  },
  {
   "cell_type": "code",
   "execution_count": 439,
   "metadata": {},
   "outputs": [
    {
     "data": {
      "text/plain": [
       "(1800, 10)"
      ]
     },
     "execution_count": 439,
     "metadata": {},
     "output_type": "execute_result"
    }
   ],
   "source": [
    "np.array(densities_view3).shape"
   ]
  },
  {
   "cell_type": "code",
   "execution_count": 440,
   "metadata": {},
   "outputs": [],
   "source": [
    "def calc_evidence(densities_view1, densities_view2, densities_view3):\n",
    "    evidence = np.array(densities_view1).sum() + np.array(densities_view2).sum()+ np.array(densities_view3).sum()\n",
    "\n",
    "    return evidence"
   ]
  },
  {
   "cell_type": "code",
   "execution_count": 441,
   "metadata": {},
   "outputs": [],
   "source": [
    "evidence =  calc_evidence(densities_view1, densities_view2, densities_view3)"
   ]
  },
  {
   "cell_type": "code",
   "execution_count": 442,
   "metadata": {},
   "outputs": [],
   "source": [
    "def posteriori(view, evidence):\n",
    "    \n",
    "    view = np.array(view)\n",
    "    \n",
    "    return  np.array(view/evidence)"
   ]
  },
  {
   "cell_type": "code",
   "execution_count": 443,
   "metadata": {},
   "outputs": [],
   "source": [
    "def predict(posteriori):\n",
    "    \n",
    "   \n",
    "    y_pred = [np.argmax(x) for x in posteriori]\n",
    "    return y_pred    "
   ]
  },
  {
   "cell_type": "code",
   "execution_count": 444,
   "metadata": {},
   "outputs": [],
   "source": [
    "posteriori_view1 = posteriori(densities_view1, evidence)\n",
    "posteriori_view2 = posteriori(densities_view2, evidence)\n",
    "posteriori_view3 = posteriori(densities_view3, evidence)"
   ]
  },
  {
   "cell_type": "code",
   "execution_count": null,
   "metadata": {},
   "outputs": [],
   "source": []
  },
  {
   "cell_type": "code",
   "execution_count": 445,
   "metadata": {
    "scrolled": true
   },
   "outputs": [],
   "source": [
    "posteriori_final = (posteriori_view1+posteriori_view2+posteriori_view3)"
   ]
  },
  {
   "cell_type": "code",
   "execution_count": 401,
   "metadata": {},
   "outputs": [],
   "source": [
    "y_predict_view1 = predict(posteriori_view1)\n",
    "y_predict_view2 = predict(posteriori_view2)\n",
    "y_predict_view3 = predict(posteriori_view3)\n",
    "\n",
    "y_pred_final = predict(posteriori_final)"
   ]
  },
  {
   "cell_type": "code",
   "execution_count": 402,
   "metadata": {},
   "outputs": [
    {
     "data": {
      "text/plain": [
       "1800"
      ]
     },
     "execution_count": 402,
     "metadata": {},
     "output_type": "execute_result"
    }
   ],
   "source": [
    "len(y_predict_view1)"
   ]
  },
  {
   "cell_type": "code",
   "execution_count": 446,
   "metadata": {},
   "outputs": [],
   "source": [
    "from sklearn.metrics import accuracy_score"
   ]
  },
  {
   "cell_type": "code",
   "execution_count": 450,
   "metadata": {},
   "outputs": [
    {
     "data": {
      "text/plain": [
       "0.9288888888888889"
      ]
     },
     "execution_count": 450,
     "metadata": {},
     "output_type": "execute_result"
    }
   ],
   "source": [
    "acc_view1 = accuracy_score(y_train_mfeat, y_predict_view1)\n",
    "acc_view1"
   ]
  },
  {
   "cell_type": "code",
   "execution_count": 451,
   "metadata": {},
   "outputs": [
    {
     "data": {
      "text/plain": [
       "0.7977777777777778"
      ]
     },
     "execution_count": 451,
     "metadata": {},
     "output_type": "execute_result"
    }
   ],
   "source": [
    "acc_view2 = accuracy_score(y_train_mfeatFou, y_predict_view2)\n",
    "acc_view2"
   ]
  },
  {
   "cell_type": "code",
   "execution_count": 453,
   "metadata": {},
   "outputs": [
    {
     "data": {
      "text/plain": [
       "0.9477777777777778"
      ]
     },
     "execution_count": 453,
     "metadata": {},
     "output_type": "execute_result"
    }
   ],
   "source": [
    "acc_view3 = accuracy_score(y_train_mfeatKa,  y_predict_view3)\n",
    "acc_view3"
   ]
  },
  {
   "cell_type": "code",
   "execution_count": 456,
   "metadata": {},
   "outputs": [],
   "source": [
    "acc_final = accuracy_score(y_train_mfeatKa,  y_pred_final)"
   ]
  },
  {
   "cell_type": "code",
   "execution_count": 397,
   "metadata": {},
   "outputs": [
    {
     "data": {
      "text/plain": [
       "0.9505555555555556"
      ]
     },
     "execution_count": 397,
     "metadata": {},
     "output_type": "execute_result"
    }
   ],
   "source": [
    "acc_final"
   ]
  }
 ],
 "metadata": {
  "kernelspec": {
   "display_name": "Python 3",
   "language": "python",
   "name": "python3"
  },
  "language_info": {
   "codemirror_mode": {
    "name": "ipython",
    "version": 3
   },
   "file_extension": ".py",
   "mimetype": "text/x-python",
   "name": "python",
   "nbconvert_exporter": "python",
   "pygments_lexer": "ipython3",
   "version": "3.6.8"
  }
 },
 "nbformat": 4,
 "nbformat_minor": 2
}
