{
 "cells": [
  {
   "cell_type": "code",
   "execution_count": 100,
   "metadata": {},
   "outputs": [],
   "source": [
    "import pandas as pd\n",
    "import numpy as np\n",
    "import math\n",
    "from sklearn.preprocessing import StandardScaler\n",
    "from tqdm import tqdm\n",
    "from time import sleep\n",
    "from tqdm import trange\n",
    "from sklearn.model_selection import train_test_split\n",
    "from sklearn.naive_bayes import GaussianNB\n",
    "import math as mt\n",
    "from numpy.linalg import inv, det\n",
    "from matplotlib import pyplot as plt\n",
    "%matplotlib inline"
   ]
  },
  {
   "cell_type": "markdown",
   "metadata": {},
   "source": [
    "## Read data"
   ]
  },
  {
   "cell_type": "code",
   "execution_count": 101,
   "metadata": {},
   "outputs": [],
   "source": [
    "mfeat = pd.read_csv(\"mfeat/mfeat-fac\", delimiter=\"\\0\", sep=\"\\0\", header=None )\n",
    "mfeatFou = pd.read_csv(\"mfeat/mfeat-fou\", delimiter=\"\\0\", sep=\"\\0\", header=None )\n",
    "mfeatka = pd.read_csv(\"mfeat/mfeat-kar\", delimiter=\"\\0\", sep=\"\\0\", header=None )\n",
    "\n",
    "y = [0 for x in range(0, 200)]\n",
    "y += [1 for x in range(200, 400)]\n",
    "y += [2 for x in range(400, 600)]\n",
    "y += [3 for x in range(600, 800)]\n",
    "y += [4 for x in range(800, 1000)]\n",
    "y += [5 for x in range(1000, 1200)]\n",
    "y += [6 for x in range(1200, 1400)]\n",
    "y += [7 for x in range(1400, 1600)]\n",
    "y += [8 for x in range(1600, 1800)]\n",
    "y += [9 for x in range(1800, 2000)]"
   ]
  },
  {
   "cell_type": "code",
   "execution_count": 4,
   "metadata": {},
   "outputs": [
    {
     "data": {
      "text/plain": [
       "200"
      ]
     },
     "execution_count": 4,
     "metadata": {},
     "output_type": "execute_result"
    }
   ],
   "source": [
    "y.count(9)"
   ]
  },
  {
   "cell_type": "markdown",
   "metadata": {},
   "source": [
    "mfeat"
   ]
  },
  {
   "cell_type": "code",
   "execution_count": 5,
   "metadata": {},
   "outputs": [
    {
     "data": {
      "text/plain": [
       "array([['   98  236  531  673  607  647    2    9    3    6    8    5  225  517  652  624  628  994    7   22   28   13   10   19  305  481  667  663 1009  727   38   28   18   11   20   10  287  567  651  742  824  900   26   34   30    8   16   13  248  556  631  796  926  748   39   34   18    9   17   12  248  540  506  814 1051  728   38   28    5   13   16    8  246  518  751  579  699 1062   13   30   28   10   16   16  276  344  682  500  709  916   10   30   23   17   15   14  357  435  829  610  745  994   20    7   24   12   10    9  355  409  477  886  976  723   30   24   14    7    7    8  290  352  435  753  894  751   29   29    2   13   13   14  260  286  562  698  665  757   11    8   15   14    9    9  238  292  586  698  733  707    9    6   15   11   10   16  294  406  654  644  741 1000   18   23   17    9   20   11  302  418  561  709  961  776   21   25   12   12   19   10  360  328  607  984 1186  599   29    7   14    6    9    9  362  314  924  733  601 1216    4    8   20   10    9    5  251  421  474  536  628  632   18   36    8   15   12   13']],\n",
       "      dtype=object)"
      ]
     },
     "execution_count": 5,
     "metadata": {},
     "output_type": "execute_result"
    }
   ],
   "source": [
    "mfeat.values[:1]"
   ]
  },
  {
   "cell_type": "code",
   "execution_count": 6,
   "metadata": {},
   "outputs": [
    {
     "data": {
      "text/plain": [
       "array([['  0.06588172  0.19731169  0.10382563  0.27036171  0.61607757  0.03585575  0.42457192  0.08970119  0.36777339  0.03706516  0.07594178  0.26390595  0.07790313  0.37200891  0.21948485  0.05532691  0.10890633  0.12775213  0.11405136  0.01858087  0.10262683  0.17268198  0.07303320  0.14034402  0.13219889  0.07601515  0.03251728  0.12883987  0.12052641  0.01661452  0.10258255  0.10162490  0.06572986  0.03521252  0.07900934  0.08377258  0.02149083  0.12162476  0.06751158  0.03377662  0.09901323  0.05940796  0.08128562  0.05234493  0.09049952  0.06358191  0.08110426  0.05910051  0.09723591  0.04157573  0.08351457  0.04237858  0.08296503  0.07717036  0.11673209  0.03476068  0.10948465  0.01642286  0.09935212  0.11376267  0.08637167  0.16765423  0.10628061  0.12578294  0.09067476  0.08125645  0.12344814  0.11337439  0.07434256  0.28166630  0.06779520  0.34418162  0.03896293  0.39436572  0.04997072  0.34487096']],\n",
       "      dtype=object)"
      ]
     },
     "execution_count": 6,
     "metadata": {},
     "output_type": "execute_result"
    }
   ],
   "source": [
    "mfeatFou.values[:1]"
   ]
  },
  {
   "cell_type": "markdown",
   "metadata": {},
   "source": [
    "### Data preprocessing"
   ]
  },
  {
   "cell_type": "code",
   "execution_count": 105,
   "metadata": {
    "scrolled": true
   },
   "outputs": [],
   "source": [
    "#Retirando os espaços. Transformando da elemento em uma lista com valores númericos, Atribuindo isso a uma \n",
    "# lista com tudo processado e normaliza\n",
    "def preprocessing(data):\n",
    "    new_data = []\n",
    "    for ex in data:\n",
    "        ex = ex[0].split(\" \")\n",
    "        exemplos1 = []\n",
    "        for element in ex:\n",
    "            if element != \"\":\n",
    "                exemplos1.append(element)\n",
    "        new_data.append(exemplos1) \n",
    "    \n",
    "    ## Normaliza\n",
    "    new_data = np.array(new_data).astype(float)\n",
    "    scaler = StandardScaler()\n",
    "    scaler.fit(new_data)\n",
    "    new_data = scaler.transform(new_data)\n",
    "    return new_data\n",
    "   \n"
   ]
  },
  {
   "cell_type": "code",
   "execution_count": 106,
   "metadata": {},
   "outputs": [],
   "source": [
    "mfeat =  preprocessing(mfeat.values)\n",
    "mfeatFou =  preprocessing(mfeatFou.values)\n",
    "mfeatKa =  preprocessing(mfeatka.values)"
   ]
  },
  {
   "cell_type": "code",
   "execution_count": 107,
   "metadata": {},
   "outputs": [
    {
     "name": "stdout",
     "output_type": "stream",
     "text": [
      "(2000, 216)\n",
      "(2000, 76)\n",
      "(2000, 64)\n"
     ]
    }
   ],
   "source": [
    "print(mfeat.shape)\n",
    "print(mfeatFou.shape)\n",
    "print(mfeatKa.shape)"
   ]
  },
  {
   "cell_type": "markdown",
   "metadata": {},
   "source": [
    "# Dataset (Train and test)"
   ]
  },
  {
   "cell_type": "code",
   "execution_count": 56,
   "metadata": {},
   "outputs": [],
   "source": [
    "X_train_mfeat, X_test_mfeat, y_train_mfeat, y_test_mefeat =  train_test_split(mfeat,y, test_size=0.10, random_state=42)\n",
    "X_train_mfeatFou, X_test_mfeatFou, y_train_mfeatFou, y_test_mefeatFou =  train_test_split(mfeatFou,y, test_size=0.10, random_state=42)\n",
    "X_train_mfeatKa, X_test_mfeatKa, y_train_mfeatKa, y_test_mefeatKa =  train_test_split(mfeatKa,y, test_size=0.10, random_state=42)"
   ]
  },
  {
   "cell_type": "code",
   "execution_count": 11,
   "metadata": {},
   "outputs": [
    {
     "name": "stdout",
     "output_type": "stream",
     "text": [
      "(200, 216)\n",
      "(200, 76)\n",
      "(200, 64)\n"
     ]
    }
   ],
   "source": [
    "print(X_test_mfeat.shape)\n",
    "print(X_test_mfeatFou.shape)\n",
    "print(X_test_mfeatKa.shape)"
   ]
  },
  {
   "cell_type": "markdown",
   "metadata": {},
   "source": [
    "# Calculates the Euclidean matrices"
   ]
  },
  {
   "cell_type": "code",
   "execution_count": 108,
   "metadata": {},
   "outputs": [],
   "source": [
    "from scipy.spatial.distance import pdist, squareform\n",
    "\n",
    "matrix_euclian_mfeat = squareform(pdist(mfeat, metric='euclidean'))\n",
    "matrix_euclian_mfeatFou = squareform(pdist(mfeatFou, metric='euclidean'))\n",
    "matrix_euclian_mfeatKa = squareform(pdist(mfeatKa, metric='euclidean'))\n",
    "\n"
   ]
  },
  {
   "cell_type": "code",
   "execution_count": 109,
   "metadata": {},
   "outputs": [
    {
     "data": {
      "text/plain": [
       "(2000, 2000)"
      ]
     },
     "execution_count": 109,
     "metadata": {},
     "output_type": "execute_result"
    }
   ],
   "source": [
    "matrix_euclian_mfeat.shape"
   ]
  },
  {
   "cell_type": "code",
   "execution_count": 110,
   "metadata": {
    "scrolled": true
   },
   "outputs": [
    {
     "name": "stdout",
     "output_type": "stream",
     "text": [
      "(2000, 2000)\n",
      "(2000, 2000)\n",
      "(2000, 2000)\n"
     ]
    }
   ],
   "source": [
    "print(matrix_euclian_mfeat.shape)\n",
    "print(matrix_euclian_mfeatFou.shape)\n",
    "print(matrix_euclian_mfeatKa.shape)"
   ]
  },
  {
   "cell_type": "markdown",
   "metadata": {},
   "source": [
    "# Bayes"
   ]
  },
  {
   "cell_type": "code",
   "execution_count": 111,
   "metadata": {
    "scrolled": true
   },
   "outputs": [],
   "source": [
    "\n",
    "def calc_density(x, priori, mean, sigma, classes):\n",
    "    apriori = priori\n",
    "    mean = mean\n",
    "    sigma = sigma\n",
    "    classes = classes\n",
    "    x = x\n",
    "    densities = []\n",
    "\n",
    "    for c in range(0,classes):\n",
    "\n",
    "\n",
    "        ##determinant\n",
    "        inver = inv(np.identity(x.shape[0]) * sigma[c])\n",
    "        determinant= det(inver)\n",
    "\n",
    "        part_one_equation = mt.pow(2*mt.pi, -x.shape[0]/2)*mt.pow(determinant,0.5)\n",
    "\n",
    "        ## values for exp calculation\n",
    "        value1_exp = ((x -mean[c]).T)\n",
    "        value1_exp = np.dot(value1_exp, inver)\n",
    "      \n",
    "\n",
    "        value2_exp = (x-mean[c])\n",
    "\n",
    "        ##calc  exp\n",
    "        exp = np.exp(-0.5*(np.dot(value1_exp, value2_exp)))\n",
    "\n",
    "        #Result conditional x priori\n",
    "\n",
    "        rest = part_one_equation*exp\n",
    "\n",
    "        densities.append(rest*priori[c])\n",
    "        \n",
    "\n",
    "    return densities"
   ]
  },
  {
   "cell_type": "code",
   "execution_count": 112,
   "metadata": {},
   "outputs": [],
   "source": [
    "nb = GaussianNB()\n",
    "nb.fit(X_test_mfeatFou, y_test_mefeatFou);\n",
    "\n",
    "\n",
    "priori = nb.class_prior_\n",
    "sigma = nb.sigma_\n",
    "mean = nb.theta_\n",
    "classes = nb.classes_\n",
    "x = X_test_mfeat\n",
    "\n",
    "densities_mfeatFou= []\n",
    "for x in X_test_mfeatFou:\n",
    "    densities_mfeatFou.append(calc_density(x, priori, mean, sigma, 10))"
   ]
  },
  {
   "cell_type": "code",
   "execution_count": 113,
   "metadata": {},
   "outputs": [
    {
     "data": {
      "text/plain": [
       "[7.017156819282751e-189,\n",
       " 1.58020801148441e-63,\n",
       " 3.987019668031554e-90,\n",
       " 3.839342617918677e-52,\n",
       " 2.996101557931017e-50,\n",
       " 3.1107940888017266e-58,\n",
       " 2.71210508855404e-41,\n",
       " 9.597647543343547e-68,\n",
       " 1.957062765836054e-95,\n",
       " 4.3789518023229234e-41]"
      ]
     },
     "execution_count": 113,
     "metadata": {},
     "output_type": "execute_result"
    }
   ],
   "source": [
    "densities_mfeatFou[0]"
   ]
  },
  {
   "cell_type": "code",
   "execution_count": 115,
   "metadata": {},
   "outputs": [],
   "source": [
    "def posteriori():\n",
    "    pass"
   ]
  }
 ],
 "metadata": {
  "kernelspec": {
   "display_name": "Python 3",
   "language": "python",
   "name": "python3"
  },
  "language_info": {
   "codemirror_mode": {
    "name": "ipython",
    "version": 3
   },
   "file_extension": ".py",
   "mimetype": "text/x-python",
   "name": "python",
   "nbconvert_exporter": "python",
   "pygments_lexer": "ipython3",
   "version": "3.6.8"
  }
 },
 "nbformat": 4,
 "nbformat_minor": 2
}
