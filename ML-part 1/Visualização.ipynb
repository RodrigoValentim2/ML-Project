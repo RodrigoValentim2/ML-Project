{
 "cells": [
  {
   "cell_type": "code",
   "execution_count": 1,
   "metadata": {},
   "outputs": [],
   "source": [
    "import pandas as pd\n",
    "import numpy as np\n",
    "from matplotlib import pyplot as plt\n",
    "import seaborn as sns\n",
    "from scipy.stats import sem, t\n",
    "from scipy import mean\n",
    "from matplotlib import colors as mcolors\n",
    "from scipy import stats\n",
    "from scipy.stats import wilcoxon\n",
    "\n",
    "%matplotlib inline "
   ]
  },
  {
   "cell_type": "code",
   "execution_count": 2,
   "metadata": {},
   "outputs": [],
   "source": [
    "df_naive = pd.read_csv(\"results/accuracy_naive\")\n",
    "df_knn = pd.read_csv(\"results/accuracy_knn\")\n",
    "\n",
    "df_naive.rename(columns={'acc':'Acurácia Naive Bayes'},                     \n",
    "                 inplace=True)\n",
    "\n",
    "df_knn.rename(columns={'acc':'Acurácia KNN'},                     \n",
    "                 inplace=True)\n",
    "\n",
    "del(df_naive['Unnamed: 0'])\n",
    "del(df_knn['Unnamed: 0'])"
   ]
  },
  {
   "cell_type": "code",
   "execution_count": 3,
   "metadata": {},
   "outputs": [],
   "source": [
    "naive = df_naive['Acurácia Naive Bayes'].apply(lambda x: np.round(x, 2)).values\n",
    "knn = df_knn['Acurácia KNN'].apply(lambda x: np.round(x, 2)).values"
   ]
  },
  {
   "cell_type": "markdown",
   "metadata": {},
   "source": [
    "# Gráfico com acurácias do Naive e o KNN"
   ]
  },
  {
   "cell_type": "code",
   "execution_count": 4,
   "metadata": {},
   "outputs": [
    {
     "data": {
      "image/png": "[encoded data removed]",
      "text/plain": [
       "<Figure size 792x288 with 1 Axes>"
      ]
     },
     "metadata": {
      "needs_background": "light"
     },
     "output_type": "display_data"
    }
   ],
   "source": [
    "\n",
    "ind = np.arange(0,30)  # the x locations for the groups\n",
    "width = 0.50  # the width of the bars\n",
    "\n",
    "fig, ax = plt.subplots()\n",
    "fig = fig.set_size_inches(11, 4, forward=True)\n",
    "\n",
    "\n",
    "rects1 = ax.bar(ind - width/2, naive, width,\n",
    "                label='Naive Bayes')\n",
    "rects2 = ax.bar(ind + width/2, knn, width,\n",
    "                label='KNN')\n",
    "\n",
    "ax.set_ylabel('Acurácia')\n",
    "ax.set_xlabel('Iterações')\n",
    "ax.set_title('Acurácias dos algoritmos')\n",
    "ax.set_xticks(ind)\n",
    "ax.set_xticklabels(range(0,30))\n",
    "ax.legend(loc='center left', bbox_to_anchor=(1, 0.5));\n",
    "\n",
    "        \n",
    "plt.show()   \n"
   ]
  },
  {
   "cell_type": "code",
   "execution_count": 5,
   "metadata": {},
   "outputs": [],
   "source": [
    "data_all = pd.concat([df_naive, df_knn], axis=1)"
   ]
  },
  {
   "cell_type": "code",
   "execution_count": 6,
   "metadata": {},
   "outputs": [],
   "source": [
    "data_all.index.name = \"iteração\""
   ]
  },
  {
   "cell_type": "code",
   "execution_count": 7,
   "metadata": {},
   "outputs": [],
   "source": [
    "data_all['Diferença (Naive - KNN)'] = list(map(lambda x, y:np.round(x-y, 3), data_all['Acurácia Naive Bayes'].values, data_all['Acurácia KNN'].values))"
   ]
  },
  {
   "cell_type": "code",
   "execution_count": 8,
   "metadata": {
    "scrolled": true
   },
   "outputs": [
    {
     "data": {
      "text/html": [
       "<div>\n",
       "<style scoped>\n",
       "    .dataframe tbody tr th:only-of-type {\n",
       "        vertical-align: middle;\n",
       "    }\n",
       "\n",
       "    .dataframe tbody tr th {\n",
       "        vertical-align: top;\n",
       "    }\n",
       "\n",
       "    .dataframe thead th {\n",
       "        text-align: right;\n",
       "    }\n",
       "</style>\n",
       "<table border=\"1\" class=\"dataframe\">\n",
       "  <thead>\n",
       "    <tr style=\"text-align: right;\">\n",
       "      <th></th>\n",
       "      <th>Acurácia Naive Bayes</th>\n",
       "      <th>Acurácia KNN</th>\n",
       "      <th>Diferença (Naive - KNN)</th>\n",
       "    </tr>\n",
       "    <tr>\n",
       "      <th>iteração</th>\n",
       "      <th></th>\n",
       "      <th></th>\n",
       "      <th></th>\n",
       "    </tr>\n",
       "  </thead>\n",
       "  <tbody>\n",
       "    <tr>\n",
       "      <th>0</th>\n",
       "      <td>0.685</td>\n",
       "      <td>0.750</td>\n",
       "      <td>-0.065</td>\n",
       "    </tr>\n",
       "    <tr>\n",
       "      <th>1</th>\n",
       "      <td>0.640</td>\n",
       "      <td>0.730</td>\n",
       "      <td>-0.090</td>\n",
       "    </tr>\n",
       "    <tr>\n",
       "      <th>2</th>\n",
       "      <td>0.725</td>\n",
       "      <td>0.770</td>\n",
       "      <td>-0.045</td>\n",
       "    </tr>\n",
       "    <tr>\n",
       "      <th>3</th>\n",
       "      <td>0.675</td>\n",
       "      <td>0.695</td>\n",
       "      <td>-0.020</td>\n",
       "    </tr>\n",
       "    <tr>\n",
       "      <th>4</th>\n",
       "      <td>0.760</td>\n",
       "      <td>0.720</td>\n",
       "      <td>0.040</td>\n",
       "    </tr>\n",
       "    <tr>\n",
       "      <th>5</th>\n",
       "      <td>0.685</td>\n",
       "      <td>0.750</td>\n",
       "      <td>-0.065</td>\n",
       "    </tr>\n",
       "    <tr>\n",
       "      <th>6</th>\n",
       "      <td>0.625</td>\n",
       "      <td>0.760</td>\n",
       "      <td>-0.135</td>\n",
       "    </tr>\n",
       "    <tr>\n",
       "      <th>7</th>\n",
       "      <td>0.685</td>\n",
       "      <td>0.745</td>\n",
       "      <td>-0.060</td>\n",
       "    </tr>\n",
       "    <tr>\n",
       "      <th>8</th>\n",
       "      <td>0.730</td>\n",
       "      <td>0.780</td>\n",
       "      <td>-0.050</td>\n",
       "    </tr>\n",
       "    <tr>\n",
       "      <th>9</th>\n",
       "      <td>0.660</td>\n",
       "      <td>0.745</td>\n",
       "      <td>-0.085</td>\n",
       "    </tr>\n",
       "    <tr>\n",
       "      <th>10</th>\n",
       "      <td>0.700</td>\n",
       "      <td>0.710</td>\n",
       "      <td>-0.010</td>\n",
       "    </tr>\n",
       "    <tr>\n",
       "      <th>11</th>\n",
       "      <td>0.690</td>\n",
       "      <td>0.715</td>\n",
       "      <td>-0.025</td>\n",
       "    </tr>\n",
       "    <tr>\n",
       "      <th>12</th>\n",
       "      <td>0.605</td>\n",
       "      <td>0.650</td>\n",
       "      <td>-0.045</td>\n",
       "    </tr>\n",
       "    <tr>\n",
       "      <th>13</th>\n",
       "      <td>0.775</td>\n",
       "      <td>0.730</td>\n",
       "      <td>0.045</td>\n",
       "    </tr>\n",
       "    <tr>\n",
       "      <th>14</th>\n",
       "      <td>0.690</td>\n",
       "      <td>0.745</td>\n",
       "      <td>-0.055</td>\n",
       "    </tr>\n",
       "    <tr>\n",
       "      <th>15</th>\n",
       "      <td>0.660</td>\n",
       "      <td>0.760</td>\n",
       "      <td>-0.100</td>\n",
       "    </tr>\n",
       "    <tr>\n",
       "      <th>16</th>\n",
       "      <td>0.685</td>\n",
       "      <td>0.780</td>\n",
       "      <td>-0.095</td>\n",
       "    </tr>\n",
       "    <tr>\n",
       "      <th>17</th>\n",
       "      <td>0.015</td>\n",
       "      <td>0.740</td>\n",
       "      <td>-0.725</td>\n",
       "    </tr>\n",
       "    <tr>\n",
       "      <th>18</th>\n",
       "      <td>0.650</td>\n",
       "      <td>0.705</td>\n",
       "      <td>-0.055</td>\n",
       "    </tr>\n",
       "    <tr>\n",
       "      <th>19</th>\n",
       "      <td>0.685</td>\n",
       "      <td>0.785</td>\n",
       "      <td>-0.100</td>\n",
       "    </tr>\n",
       "    <tr>\n",
       "      <th>20</th>\n",
       "      <td>0.635</td>\n",
       "      <td>0.735</td>\n",
       "      <td>-0.100</td>\n",
       "    </tr>\n",
       "    <tr>\n",
       "      <th>21</th>\n",
       "      <td>0.670</td>\n",
       "      <td>0.745</td>\n",
       "      <td>-0.075</td>\n",
       "    </tr>\n",
       "    <tr>\n",
       "      <th>22</th>\n",
       "      <td>0.660</td>\n",
       "      <td>0.665</td>\n",
       "      <td>-0.005</td>\n",
       "    </tr>\n",
       "    <tr>\n",
       "      <th>23</th>\n",
       "      <td>0.665</td>\n",
       "      <td>0.770</td>\n",
       "      <td>-0.105</td>\n",
       "    </tr>\n",
       "    <tr>\n",
       "      <th>24</th>\n",
       "      <td>0.705</td>\n",
       "      <td>0.730</td>\n",
       "      <td>-0.025</td>\n",
       "    </tr>\n",
       "    <tr>\n",
       "      <th>25</th>\n",
       "      <td>0.650</td>\n",
       "      <td>0.730</td>\n",
       "      <td>-0.080</td>\n",
       "    </tr>\n",
       "    <tr>\n",
       "      <th>26</th>\n",
       "      <td>0.695</td>\n",
       "      <td>0.770</td>\n",
       "      <td>-0.075</td>\n",
       "    </tr>\n",
       "    <tr>\n",
       "      <th>27</th>\n",
       "      <td>0.685</td>\n",
       "      <td>0.745</td>\n",
       "      <td>-0.060</td>\n",
       "    </tr>\n",
       "    <tr>\n",
       "      <th>28</th>\n",
       "      <td>0.695</td>\n",
       "      <td>0.700</td>\n",
       "      <td>-0.005</td>\n",
       "    </tr>\n",
       "    <tr>\n",
       "      <th>29</th>\n",
       "      <td>0.610</td>\n",
       "      <td>0.725</td>\n",
       "      <td>-0.115</td>\n",
       "    </tr>\n",
       "  </tbody>\n",
       "</table>\n",
       "</div>"
      ],
      "text/plain": [
       "          Acurácia Naive Bayes  Acurácia KNN  Diferença (Naive - KNN)\n",
       "iteração                                                             \n",
       "0                        0.685         0.750                   -0.065\n",
       "1                        0.640         0.730                   -0.090\n",
       "2                        0.725         0.770                   -0.045\n",
       "3                        0.675         0.695                   -0.020\n",
       "4                        0.760         0.720                    0.040\n",
       "5                        0.685         0.750                   -0.065\n",
       "6                        0.625         0.760                   -0.135\n",
       "7                        0.685         0.745                   -0.060\n",
       "8                        0.730         0.780                   -0.050\n",
       "9                        0.660         0.745                   -0.085\n",
       "10                       0.700         0.710                   -0.010\n",
       "11                       0.690         0.715                   -0.025\n",
       "12                       0.605         0.650                   -0.045\n",
       "13                       0.775         0.730                    0.045\n",
       "14                       0.690         0.745                   -0.055\n",
       "15                       0.660         0.760                   -0.100\n",
       "16                       0.685         0.780                   -0.095\n",
       "17                       0.015         0.740                   -0.725\n",
       "18                       0.650         0.705                   -0.055\n",
       "19                       0.685         0.785                   -0.100\n",
       "20                       0.635         0.735                   -0.100\n",
       "21                       0.670         0.745                   -0.075\n",
       "22                       0.660         0.665                   -0.005\n",
       "23                       0.665         0.770                   -0.105\n",
       "24                       0.705         0.730                   -0.025\n",
       "25                       0.650         0.730                   -0.080\n",
       "26                       0.695         0.770                   -0.075\n",
       "27                       0.685         0.745                   -0.060\n",
       "28                       0.695         0.700                   -0.005\n",
       "29                       0.610         0.725                   -0.115"
      ]
     },
     "execution_count": 8,
     "metadata": {},
     "output_type": "execute_result"
    }
   ],
   "source": [
    "data_all"
   ]
  },
  {
   "cell_type": "markdown",
   "metadata": {},
   "source": [
    "# Intervalo de confiança para as médias de acurácia do Naive Bays"
   ]
  },
  {
   "cell_type": "code",
   "execution_count": 9,
   "metadata": {},
   "outputs": [
    {
     "name": "stdout",
     "output_type": "stream",
     "text": [
      "Limite inferior: 0.612 \n",
      "Limite superior: 0.701\n"
     ]
    }
   ],
   "source": [
    " intervalo_naive =  stats.norm.interval(0.95,  loc=np.mean(df_naive), scale= np.std(df_naive)/np.sqrt(30))\n",
    "\n",
    "print(\"Limite inferior: {} \\nLimite superior: {}\".format(np.round(intervalo_naive[0][0], 3), np.round(intervalo_naive[1][0], 3)))\n"
   ]
  },
  {
   "cell_type": "markdown",
   "metadata": {},
   "source": [
    "# Intervalo de confiança para as médias de acurácia do KNN"
   ]
  },
  {
   "cell_type": "code",
   "execution_count": 10,
   "metadata": {
    "scrolled": true
   },
   "outputs": [
    {
     "name": "stdout",
     "output_type": "stream",
     "text": [
      "Limite inferior: 0.725 \n",
      "Limite superior: 0.747\n"
     ]
    }
   ],
   "source": [
    " intervalo_knn =  stats.norm.interval(0.95, np.mean(df_knn), np.std(df_knn)/np.sqrt(30))\n",
    "\n",
    "print(\"Limite inferior: {} \\nLimite superior: {}\".format(np.round(intervalo_knn[0][0], 3), np.round(intervalo_knn[1][0], 3)))"
   ]
  },
  {
   "cell_type": "markdown",
   "metadata": {},
   "source": [
    "# Teste wilcoxon"
   ]
  },
  {
   "cell_type": "code",
   "execution_count": 11,
   "metadata": {},
   "outputs": [],
   "source": [
    "test = wilcoxon(naive, knn)"
   ]
  },
  {
   "cell_type": "code",
   "execution_count": 12,
   "metadata": {},
   "outputs": [
    {
     "data": {
      "text/plain": [
       "[1.6391351437999527e-05, 14.0]"
      ]
     },
     "execution_count": 12,
     "metadata": {},
     "output_type": "execute_result"
    }
   ],
   "source": [
    "[test.pvalue, test.statistic]"
   ]
  },
  {
   "cell_type": "code",
   "execution_count": 13,
   "metadata": {
    "scrolled": true
   },
   "outputs": [
    {
     "data": {
      "text/html": [
       "<div>\n",
       "<style scoped>\n",
       "    .dataframe tbody tr th:only-of-type {\n",
       "        vertical-align: middle;\n",
       "    }\n",
       "\n",
       "    .dataframe tbody tr th {\n",
       "        vertical-align: top;\n",
       "    }\n",
       "\n",
       "    .dataframe thead th {\n",
       "        text-align: right;\n",
       "    }\n",
       "</style>\n",
       "<table border=\"1\" class=\"dataframe\">\n",
       "  <thead>\n",
       "    <tr style=\"text-align: right;\">\n",
       "      <th></th>\n",
       "      <th>P-value</th>\n",
       "      <th>Statistic</th>\n",
       "    </tr>\n",
       "  </thead>\n",
       "  <tbody>\n",
       "    <tr>\n",
       "      <th>0</th>\n",
       "      <td>0.000016</td>\n",
       "      <td>14.0</td>\n",
       "    </tr>\n",
       "  </tbody>\n",
       "</table>\n",
       "</div>"
      ],
      "text/plain": [
       "    P-value  Statistic\n",
       "0  0.000016       14.0"
      ]
     },
     "execution_count": 13,
     "metadata": {},
     "output_type": "execute_result"
    }
   ],
   "source": [
    "pd.DataFrame([[test.pvalue, test.statistic]], index=None, columns=['P-value', 'Statistic'])"
   ]
  },
  {
   "cell_type": "markdown",
   "metadata": {},
   "source": [
    "\n",
    "* Hipótese nula (H 0 ) : A diferença entre os pares de acurácia segue uma distribuição simétrica em torno de zero.\n",
    "\n",
    "* Hipótese alternativa (H A ) : A diferença entre os pares de acurácia não segue uma distribuição simétrica em torno de zero."
   ]
  },
  {
   "cell_type": "markdown",
   "metadata": {},
   "source": [
    "# Interpretação dos resultados"
   ]
  },
  {
   "cell_type": "markdown",
   "metadata": {},
   "source": [
    "* Um teste Wilcoxon T foi usado para analisar a acurácia com o Naive Bayes e depois com o KNN após aplicar o KNN verificou-se uma melhoria significativa na acurácia que passou de 0.65 para 0.73 com o KNN. houve diminuição estatisticamente significante da acurácia (t = 14.0, p = 0\t0.000016), com esses resultados é rejeitada a hipótese nula (H0), pois o p-values foi menor que 0.05"
   ]
  },
  {
   "cell_type": "markdown",
   "metadata": {},
   "source": [
    "# Resultado com Cros validation"
   ]
  },
  {
   "cell_type": "code",
   "execution_count": 2,
   "metadata": {},
   "outputs": [],
   "source": [
    "df_naive = pd.read_csv(\"results/accuracy_naive_cros\")\n",
    "df_knn = pd.read_csv(\"results/accuracy_knn_cros\")\n",
    "\n",
    "df_naive.rename(columns={'acc':'Acurácia Naive Bayes'},                     \n",
    "                 inplace=True)\n",
    "\n",
    "df_knn.rename(columns={'acc':'Acurácia KNN'},                     \n",
    "                 inplace=True)\n",
    "\n",
    "del(df_naive['Unnamed: 0'])\n",
    "del(df_knn['Unnamed: 0'])"
   ]
  },
  {
   "cell_type": "code",
   "execution_count": 3,
   "metadata": {},
   "outputs": [],
   "source": [
    "naive = df_naive['Acurácia Naive Bayes'].apply(lambda x: np.round(x, 2)).values\n",
    "knn = df_knn['Acurácia KNN'].apply(lambda x: np.round(x, 2)).values"
   ]
  },
  {
   "cell_type": "code",
   "execution_count": 4,
   "metadata": {},
   "outputs": [
    {
     "data": {
      "image/png": "[encoded data removed]",
      "text/plain": [
       "<Figure size 792x288 with 1 Axes>"
      ]
     },
     "metadata": {
      "needs_background": "light"
     },
     "output_type": "display_data"
    }
   ],
   "source": [
    "\n",
    "ind = np.arange(0,30)  # the x locations for the groups\n",
    "width = 0.50  # the width of the bars\n",
    "\n",
    "fig, ax = plt.subplots()\n",
    "fig = fig.set_size_inches(11, 4, forward=True)\n",
    "\n",
    "\n",
    "rects1 = ax.bar(ind - width/2, naive, width,\n",
    "                label='Naive Bayes')\n",
    "rects2 = ax.bar(ind + width/2, knn, width,\n",
    "                label='KNN')\n",
    "\n",
    "ax.set_ylabel('Acurácia')\n",
    "ax.set_xlabel('Iterações')\n",
    "ax.set_title('Acurácias dos algoritmos')\n",
    "ax.set_xticks(ind)\n",
    "ax.set_xticklabels(range(0,30))\n",
    "ax.legend(loc='center left', bbox_to_anchor=(1, 0.5));\n",
    "\n",
    "        \n",
    "plt.show()   \n"
   ]
  },
  {
   "cell_type": "code",
   "execution_count": 5,
   "metadata": {},
   "outputs": [
    {
     "name": "stdout",
     "output_type": "stream",
     "text": [
      "Limite inferior: 0.661 \n",
      "Limite superior: 0.685\n"
     ]
    }
   ],
   "source": [
    " intervalo_naive =  stats.norm.interval(0.95,  loc=np.mean(df_naive), scale= np.std(df_naive)/np.sqrt(30))\n",
    "\n",
    "print(\"Limite inferior: {} \\nLimite superior: {}\".format(np.round(intervalo_naive[0][0], 3), np.round(intervalo_naive[1][0], 3)))\n"
   ]
  },
  {
   "cell_type": "code",
   "execution_count": 6,
   "metadata": {},
   "outputs": [
    {
     "name": "stdout",
     "output_type": "stream",
     "text": [
      "Limite inferior: 0.687 \n",
      "Limite superior: 0.709\n"
     ]
    }
   ],
   "source": [
    " intervalo_knn =  stats.norm.interval(0.95, np.mean(df_knn), np.std(df_knn)/np.sqrt(30))\n",
    "\n",
    "print(\"Limite inferior: {} \\nLimite superior: {}\".format(np.round(intervalo_knn[0][0], 3), np.round(intervalo_knn[1][0], 3)))"
   ]
  },
  {
   "cell_type": "code",
   "execution_count": null,
   "metadata": {},
   "outputs": [],
   "source": []
  },
  {
   "cell_type": "code",
   "execution_count": 8,
   "metadata": {},
   "outputs": [
    {
     "data": {
      "text/html": [
       "<div>\n",
       "<style scoped>\n",
       "    .dataframe tbody tr th:only-of-type {\n",
       "        vertical-align: middle;\n",
       "    }\n",
       "\n",
       "    .dataframe tbody tr th {\n",
       "        vertical-align: top;\n",
       "    }\n",
       "\n",
       "    .dataframe thead th {\n",
       "        text-align: right;\n",
       "    }\n",
       "</style>\n",
       "<table border=\"1\" class=\"dataframe\">\n",
       "  <thead>\n",
       "    <tr style=\"text-align: right;\">\n",
       "      <th></th>\n",
       "      <th>P-value</th>\n",
       "      <th>Statistic</th>\n",
       "    </tr>\n",
       "  </thead>\n",
       "  <tbody>\n",
       "    <tr>\n",
       "      <th>0</th>\n",
       "      <td>0.001465</td>\n",
       "      <td>50.5</td>\n",
       "    </tr>\n",
       "  </tbody>\n",
       "</table>\n",
       "</div>"
      ],
      "text/plain": [
       "    P-value  Statistic\n",
       "0  0.001465       50.5"
      ]
     },
     "execution_count": 8,
     "metadata": {},
     "output_type": "execute_result"
    }
   ],
   "source": [
    "test = wilcoxon(naive, knn)\n",
    "pd.DataFrame([[test.pvalue, test.statistic]], index=None, columns=['P-value', 'Statistic'])"
   ]
  },
  {
   "cell_type": "code",
   "execution_count": null,
   "metadata": {},
   "outputs": [],
   "source": []
  }
 ],
 "metadata": {
  "kernelspec": {
   "display_name": "Python 3",
   "language": "python",
   "name": "python3"
  },
  "language_info": {
   "codemirror_mode": {
    "name": "ipython",
    "version": 3
   },
   "file_extension": ".py",
   "mimetype": "text/x-python",
   "name": "python",
   "nbconvert_exporter": "python",
   "pygments_lexer": "ipython3",
   "version": "3.6.8"
  }
 },
 "nbformat": 4,
 "nbformat_minor": 2
}
