{
 "cells": [
  {
   "cell_type": "code",
   "execution_count": 74,
   "metadata": {},
   "outputs": [],
   "source": [
    "from Naive_bayes import NaiveBayes\n",
    "import pandas as pd\n",
    "import numpy as np\n",
    "from scipy.spatial.distance import pdist, squareform\n",
    "import math\n",
    "from sklearn.preprocessing import StandardScaler, MinMaxScaler\n",
    "from tqdm import tqdm\n",
    "from time import sleep\n",
    "from tqdm import trange\n",
    "from sklearn.model_selection import train_test_split\n",
    "from sklearn.naive_bayes import GaussianNB\n",
    "import math as mt\n",
    "import time\n",
    "from scipy.stats import sem, t, friedmanchisquare\n",
    "from numpy.linalg import inv, det\n",
    "from matplotlib import pyplot as plt\n",
    "import warnings\n",
    "warnings.filterwarnings('ignore')\n",
    "from sklearn.metrics import accuracy_score\n",
    "from sklearn.model_selection import KFold\n",
    "%matplotlib inline"
   ]
  },
  {
   "cell_type": "code",
   "execution_count": 12,
   "metadata": {},
   "outputs": [],
   "source": [
    "mfeat = pd.read_csv(\"mfeat/mfeat-fac\", delimiter=\"\\0\", sep=\"\\0\", header=None )\n",
    "mfeatFou = pd.read_csv(\"mfeat/mfeat-fou\", delimiter=\"\\0\", sep=\"\\0\", header=None )\n",
    "mfeatka = pd.read_csv(\"mfeat/mfeat-kar\", delimiter=\"\\0\", sep=\"\\0\", header=None )\n",
    "\n",
    "y = [0 for x in range(0, 200)]\n",
    "y += [1 for x in range(200, 400)]\n",
    "y += [2 for x in range(400, 600)]\n",
    "y += [3 for x in range(600, 800)]\n",
    "y += [4 for x in range(800, 1000)]\n",
    "y += [5 for x in range(1000, 1200)]\n",
    "y += [6 for x in range(1200, 1400)]\n",
    "y += [7 for x in range(1400, 1600)]\n",
    "y += [8 for x in range(1600, 1800)]\n",
    "y += [9 for x in range(1800, 2000)]\n",
    "\n",
    "y = np.array(y)"
   ]
  },
  {
   "cell_type": "code",
   "execution_count": null,
   "metadata": {},
   "outputs": [],
   "source": []
  },
  {
   "cell_type": "code",
   "execution_count": 13,
   "metadata": {},
   "outputs": [],
   "source": [
    "#Retirando os espaços. Transformando da elemento em uma lista com valores númericos, Atribuindo isso a uma \n",
    "# lista com tudo processado e normaliza\n",
    "def preprocessing(data):\n",
    "    new_data = []\n",
    "    for ex in data:\n",
    "        ex = ex[0].split(\" \")\n",
    "        exemplos1 = []\n",
    "        for element in ex:\n",
    "            if element != \"\":\n",
    "                exemplos1.append(element)\n",
    "        new_data.append(exemplos1) \n",
    "    \n",
    "    ## Normaliza\n",
    "  \n",
    "    new_data = np.array(new_data).astype(float)\n",
    "    scaler = StandardScaler()\n",
    "    scaler.fit(new_data)\n",
    "    new_data = scaler.transform(new_data)\n",
    "    return new_data\n",
    "   "
   ]
  },
  {
   "cell_type": "code",
   "execution_count": 14,
   "metadata": {},
   "outputs": [],
   "source": [
    "mfeat =  preprocessing(mfeat.values)\n",
    "mfeatFou =  preprocessing(mfeatFou.values)\n",
    "mfeatKa =  preprocessing(mfeatka.values)"
   ]
  },
  {
   "cell_type": "code",
   "execution_count": 34,
   "metadata": {},
   "outputs": [
    {
     "data": {
      "text/plain": [
       "(2000, 216)"
      ]
     },
     "execution_count": 34,
     "metadata": {},
     "output_type": "execute_result"
    }
   ],
   "source": [
    "mfeat.shape"
   ]
  },
  {
   "cell_type": "code",
   "execution_count": 43,
   "metadata": {},
   "outputs": [],
   "source": [
    "kf = KFold(n_splits=10,shuffle=True)"
   ]
  },
  {
   "cell_type": "code",
   "execution_count": 59,
   "metadata": {},
   "outputs": [
    {
     "name": "stderr",
     "output_type": "stream",
     "text": [
      "\n",
      "  0%|          | 0/30 [00:00<?, ?it/s]\u001b[A\n",
      "  3%|▎         | 1/30 [00:54<26:07, 54.06s/it]\u001b[A\n",
      "  7%|▋         | 2/30 [01:55<26:11, 56.14s/it]\u001b[A\n",
      " 10%|█         | 3/30 [02:57<26:06, 58.02s/it]\u001b[A\n",
      " 13%|█▎        | 4/30 [04:00<25:45, 59.43s/it]\u001b[A\n",
      " 17%|█▋        | 5/30 [04:57<24:30, 58.82s/it]\u001b[A\n",
      " 20%|██        | 6/30 [05:54<23:18, 58.28s/it]\u001b[A\n",
      " 23%|██▎       | 7/30 [06:52<22:17, 58.14s/it]\u001b[A\n",
      " 27%|██▋       | 8/30 [07:51<21:22, 58.30s/it]\u001b[A\n",
      " 30%|███       | 9/30 [08:51<20:38, 58.98s/it]\u001b[A\n",
      " 33%|███▎      | 10/30 [09:48<19:24, 58.22s/it]\u001b[A\n",
      " 37%|███▋      | 11/30 [10:44<18:16, 57.71s/it]\u001b[A\n",
      " 40%|████      | 12/30 [11:44<17:29, 58.30s/it]\u001b[A\n",
      " 43%|████▎     | 13/30 [12:41<16:26, 58.05s/it]\u001b[A\n",
      " 47%|████▋     | 14/30 [13:42<15:40, 58.80s/it]\u001b[A\n",
      " 50%|█████     | 15/30 [14:38<14:32, 58.15s/it]\u001b[A\n",
      " 53%|█████▎    | 16/30 [15:34<13:24, 57.49s/it]\u001b[A\n",
      " 57%|█████▋    | 17/30 [16:31<12:23, 57.23s/it]\u001b[A\n",
      " 60%|██████    | 18/30 [17:29<11:31, 57.61s/it]\u001b[A\n",
      " 63%|██████▎   | 19/30 [18:43<11:27, 62.51s/it]\u001b[A\n",
      " 67%|██████▋   | 20/30 [19:47<10:26, 62.68s/it]\u001b[A\n",
      " 70%|███████   | 21/30 [20:54<09:36, 64.03s/it]\u001b[A\n",
      " 73%|███████▎  | 22/30 [22:01<08:38, 64.87s/it]\u001b[A\n",
      " 77%|███████▋  | 23/30 [22:58<07:18, 62.65s/it]\u001b[A\n",
      " 80%|████████  | 24/30 [23:55<06:06, 61.10s/it]\u001b[A\n",
      " 83%|████████▎ | 25/30 [24:53<05:00, 60.06s/it]\u001b[A\n",
      " 87%|████████▋ | 26/30 [25:50<03:56, 59.15s/it]\u001b[A\n",
      " 90%|█████████ | 27/30 [26:50<02:58, 59.42s/it]\u001b[A\n",
      " 93%|█████████▎| 28/30 [27:50<01:59, 59.51s/it]\u001b[A\n",
      " 97%|█████████▋| 29/30 [28:47<00:58, 58.65s/it]\u001b[A\n",
      "100%|██████████| 30/30 [29:43<00:00, 58.04s/it]\u001b[A\n",
      "\u001b[A"
     ]
    }
   ],
   "source": [
    "\n",
    "list_acc = []\n",
    "count = 0\n",
    "\n",
    "\n",
    "for i in trange(0, 30):\n",
    "    acc_fold = []\n",
    "    for train_index, test_index in kf.split(np.array((mfeat))):\n",
    "       \n",
    "        X_trains = []\n",
    "        y_train_views = []\n",
    "        X_tests = []\n",
    "    \n",
    "        X_train_view1, X_test_view1 = mfeat[train_index], mfeat[test_index]\n",
    "        y_train_view1, y_test_view1 = y[train_index], y[test_index]\n",
    "      \n",
    "       \n",
    "       \n",
    "        X_train_view2, X_test_view2 = mfeatFou[train_index], mfeatFou[test_index]\n",
    "        y_train_view2, y_test_view2 = y[train_index], y[test_index]\n",
    "       \n",
    "   \n",
    "\n",
    "        X_train_view3, X_test_view3 = mfeatKa[train_index], mfeatKa[test_index]\n",
    "        y_train_view3, y_test_view3 = y[train_index], y[test_index]\n",
    "        \n",
    "  \n",
    "        \n",
    "        ##Values   \n",
    "        X_trains = [X_train_view1, X_train_view2, X_train_view3]\n",
    "        y_train_views = [y_train_view1, y_train_view2, y_train_view3]\n",
    "        X_tests = [X_test_view1, X_test_view2, X_test_view3]\n",
    "        nb = NaiveBayes()\n",
    "        \n",
    "        nb.fit(X_trains, y_train_views)\n",
    "        \n",
    "        y_pred = nb.predict(X_tests=X_tests);\n",
    "        \n",
    "        acc_fold = accuracy_score(y_test_view1, y_pred)\n",
    "        \n",
    "    list_acc.append(np.mean(acc_fold))\n",
    "    \n",
    "        \n",
    "        \n",
    "     "
   ]
  },
  {
   "cell_type": "code",
   "execution_count": 61,
   "metadata": {},
   "outputs": [
    {
     "data": {
      "text/plain": [
       "0.9335000000000001"
      ]
     },
     "execution_count": 61,
     "metadata": {},
     "output_type": "execute_result"
    }
   ],
   "source": [
    "np.mean(list_acc)"
   ]
  },
  {
   "cell_type": "markdown",
   "metadata": {},
   "source": [
    "# Construíndo um intervalo de confiaça para o y do próprio dataset"
   ]
  },
  {
   "cell_type": "code",
   "execution_count": 68,
   "metadata": {},
   "outputs": [
    {
     "name": "stdout",
     "output_type": "stream",
     "text": [
      "0.927066890142819\n"
     ]
    }
   ],
   "source": [
    "\n",
    "confidence = 0.95\n",
    "data = list_acc\n",
    "\n",
    "n = len(list_acc)\n",
    "m = mean(list_acc)\n",
    "std_err = sem(list_acc)\n",
    "h = std_err * t.ppf((1 + confidence) / 2, n - 1)\n",
    "\n",
    "start = m - h\n",
    "print (start)"
   ]
  }
 ],
 "metadata": {
  "kernelspec": {
   "display_name": "Python 3",
   "language": "python",
   "name": "python3"
  },
  "language_info": {
   "codemirror_mode": {
    "name": "ipython",
    "version": 3
   },
   "file_extension": ".py",
   "mimetype": "text/x-python",
   "name": "python",
   "nbconvert_exporter": "python",
   "pygments_lexer": "ipython3",
   "version": "3.6.8"
  }
 },
 "nbformat": 4,
 "nbformat_minor": 2
}
