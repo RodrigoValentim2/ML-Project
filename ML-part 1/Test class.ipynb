{
 "cells": [
  {
   "cell_type": "code",
   "execution_count": 1,
   "metadata": {},
   "outputs": [],
   "source": [
    "from Naive_bayes import NaiveBayes\n",
    "import pandas as pd\n",
    "import numpy as np\n",
    "from scipy.spatial.distance import pdist, squareform\n",
    "from scipy.spatial import distance \n",
    "import math\n",
    "from sklearn.preprocessing import StandardScaler, MinMaxScaler\n",
    "from tqdm import tqdm\n",
    "from time import sleep\n",
    "from tqdm import trange\n",
    "from sklearn.model_selection import train_test_split\n",
    "from sklearn.naive_bayes import GaussianNB\n",
    "import math as mt\n",
    "import time\n",
    "from numpy.linalg import inv, det\n",
    "from matplotlib import pyplot as plt\n",
    "import warnings\n",
    "warnings.filterwarnings('ignore')\n",
    "from sklearn.metrics import accuracy_score\n",
    "from sklearn.model_selection import KFold\n",
    "%matplotlib inline"
   ]
  },
  {
   "cell_type": "code",
   "execution_count": 2,
   "metadata": {},
   "outputs": [],
   "source": [
    "mfeat = pd.read_csv(\"mfeat/mfeat-fac\", delimiter=\"\\0\", sep=\"\\0\", header=None )\n",
    "mfeatFou = pd.read_csv(\"mfeat/mfeat-fou\", delimiter=\"\\0\", sep=\"\\0\", header=None )\n",
    "mfeatka = pd.read_csv(\"mfeat/mfeat-kar\", delimiter=\"\\0\", sep=\"\\0\", header=None )\n",
    "\n",
    "y = [0 for x in range(0, 200)]\n",
    "y += [1 for x in range(200, 400)]\n",
    "y += [2 for x in range(400, 600)]\n",
    "y += [3 for x in range(600, 800)]\n",
    "y += [4 for x in range(800, 1000)]\n",
    "y += [5 for x in range(1000, 1200)]\n",
    "y += [6 for x in range(1200, 1400)]\n",
    "y += [7 for x in range(1400, 1600)]\n",
    "y += [8 for x in range(1600, 1800)]\n",
    "y += [9 for x in range(1800, 2000)]\n",
    "\n",
    "y = np.array(y)"
   ]
  },
  {
   "cell_type": "code",
   "execution_count": 3,
   "metadata": {},
   "outputs": [],
   "source": [
    "#Retirando os espaços. Transformando da elemento em uma lista com valores númericos, Atribuindo isso a uma \n",
    "# lista com tudo processado e normaliza\n",
    "def preprocessing(data):\n",
    "    new_data = []\n",
    "    for ex in data:\n",
    "        ex = ex[0].split(\" \")\n",
    "        exemplos1 = []\n",
    "        for element in ex:\n",
    "            if element != \"\":\n",
    "                exemplos1.append(element)\n",
    "        new_data.append(exemplos1) \n",
    "    \n",
    "    ## Normaliza\n",
    "  \n",
    "    new_data = np.array(new_data).astype(float)\n",
    "    scaler = StandardScaler()\n",
    "    scaler.fit(new_data)\n",
    "    new_data = scaler.transform(new_data)\n",
    "    return new_data\n",
    "   "
   ]
  },
  {
   "cell_type": "code",
   "execution_count": 4,
   "metadata": {},
   "outputs": [],
   "source": [
    "mfeat =  preprocessing(mfeat.values)\n",
    "mfeatFou =  preprocessing(mfeatFou.values)\n",
    "mfeatKa =  preprocessing(mfeatka.values)"
   ]
  },
  {
   "cell_type": "code",
   "execution_count": 14,
   "metadata": {},
   "outputs": [],
   "source": [
    "kf = KFold(n_splits=10,shuffle=True)"
   ]
  },
  {
   "cell_type": "code",
   "execution_count": 50,
   "metadata": {},
   "outputs": [
    {
     "name": "stderr",
     "output_type": "stream",
     "text": [
      "\n",
      "  0%|          | 0/30 [00:00<?, ?it/s]\u001b[A\n",
      "  3%|▎         | 1/30 [00:52<25:12, 52.14s/it]\u001b[A\n",
      "  7%|▋         | 2/30 [01:53<25:41, 55.04s/it]\u001b[A\n",
      " 10%|█         | 3/30 [02:50<24:56, 55.41s/it]\u001b[A\n",
      " 13%|█▎        | 4/30 [03:46<24:08, 55.71s/it]\u001b[A\n",
      " 17%|█▋        | 5/30 [04:43<23:18, 55.92s/it]\u001b[A\n",
      " 20%|██        | 6/30 [05:39<22:27, 56.13s/it]\u001b[A\n",
      " 23%|██▎       | 7/30 [06:35<21:32, 56.18s/it]\u001b[A\n",
      " 27%|██▋       | 8/30 [07:39<21:24, 58.39s/it]\u001b[A\n",
      " 30%|███       | 9/30 [08:37<20:22, 58.20s/it]\u001b[A\n",
      " 33%|███▎      | 10/30 [09:34<19:17, 57.88s/it]\u001b[A\n",
      " 37%|███▋      | 11/30 [10:31<18:15, 57.67s/it]\u001b[A\n",
      " 40%|████      | 12/30 [11:29<17:18, 57.68s/it]\u001b[A\n",
      " 43%|████▎     | 13/30 [12:26<16:16, 57.44s/it]\u001b[A\n",
      " 47%|████▋     | 14/30 [13:23<15:16, 57.28s/it]\u001b[A\n",
      " 50%|█████     | 15/30 [14:20<14:17, 57.18s/it]\u001b[A\n",
      " 53%|█████▎    | 16/30 [15:16<13:18, 57.00s/it]\u001b[A\n",
      " 57%|█████▋    | 17/30 [16:14<12:25, 57.38s/it]\u001b[A\n",
      " 60%|██████    | 18/30 [17:12<11:30, 57.57s/it]\u001b[A\n",
      " 63%|██████▎   | 19/30 [18:09<10:30, 57.31s/it]\u001b[A\n",
      " 67%|██████▋   | 20/30 [19:06<09:32, 57.23s/it]\u001b[A\n",
      " 70%|███████   | 21/30 [20:03<08:33, 57.10s/it]\u001b[A\n",
      " 73%|███████▎  | 22/30 [21:01<07:39, 57.43s/it]\u001b[A\n",
      " 77%|███████▋  | 23/30 [21:58<06:40, 57.23s/it]\u001b[A\n",
      " 80%|████████  | 24/30 [22:55<05:43, 57.22s/it]\u001b[A\n",
      " 83%|████████▎ | 25/30 [23:52<04:45, 57.12s/it]\u001b[A\n",
      " 87%|████████▋ | 26/30 [24:49<03:48, 57.17s/it]\u001b[A\n",
      " 90%|█████████ | 27/30 [25:46<02:51, 57.11s/it]\u001b[A\n",
      " 93%|█████████▎| 28/30 [26:43<01:53, 56.91s/it]\u001b[A\n",
      " 97%|█████████▋| 29/30 [27:39<00:56, 56.79s/it]\u001b[A\n",
      "100%|██████████| 30/30 [28:36<00:00, 56.72s/it]\u001b[A\n",
      "\u001b[A"
     ]
    }
   ],
   "source": [
    "\n",
    "list_acc = []\n",
    "count = 0\n",
    "\n",
    "\n",
    "for i in trange(0, 30):\n",
    "    acc_fold = []\n",
    "    for train_index, test_index in kf.split(np.array((mfeat))):\n",
    "       \n",
    "        X_trains = []\n",
    "        y_train_views = []\n",
    "        X_tests = []\n",
    "    \n",
    "        X_train_view1, X_test_view1 = mfeat[train_index], mfeat[test_index]\n",
    "        y_train_view1, y_test_view1 = y[train_index], y[test_index]\n",
    "      \n",
    "       \n",
    "       \n",
    "        X_train_view2, X_test_view2 = mfeatFou[train_index], mfeatFou[test_index]\n",
    "        y_train_view2, y_test_view2 = y[train_index], y[test_index]\n",
    "       \n",
    "   \n",
    "\n",
    "        X_train_view3, X_test_view3 = mfeatKa[train_index], mfeatKa[test_index]\n",
    "        y_train_view3, y_test_view3 = y[train_index], y[test_index]\n",
    "        \n",
    "  \n",
    "        \n",
    "        ##Values   \n",
    "        X_trains = [X_train_view1, X_train_view2, X_train_view3]\n",
    "        y_train_views = [y_train_view1, y_train_view2, y_train_view3]\n",
    "        X_tests = [X_test_view1, X_test_view2, X_test_view3]\n",
    "        nb = NaiveBayes()\n",
    "        \n",
    "        nb.fit(X_trains, y_train_views)\n",
    "        \n",
    "        y_pred = nb.predict(X_tests=X_tests);\n",
    "        \n",
    "        acc_fold = accuracy_score(y_test_view1, y_pred)\n",
    "        \n",
    "    list_acc.append(np.mean(acc_fold))"
   ]
  },
  {
   "cell_type": "code",
   "execution_count": 56,
   "metadata": {},
   "outputs": [
    {
     "data": {
      "text/plain": [
       "0.9360333333333332"
      ]
     },
     "execution_count": 56,
     "metadata": {},
     "output_type": "execute_result"
    }
   ],
   "source": [
    " np.mean(list_acc)"
   ]
  },
  {
   "cell_type": "markdown",
   "metadata": {},
   "source": [
    "## Construíndo um intervalo de confiaça para o y do próprio dataset"
   ]
  },
  {
   "cell_type": "code",
   "execution_count": null,
   "metadata": {},
   "outputs": [],
   "source": [
    "\n",
    "confidence = 0.95\n",
    "data = list_acc\n",
    "\n",
    "n = len(list_acc)\n",
    "m = mean(list_acc)\n",
    "std_err = sem(list_acc)\n",
    "h = std_err * t.ppf((1 + confidence) / 2, n - 1)\n",
    "\n",
    "start = m - h\n",
    "print (start)"
   ]
  },
  {
   "cell_type": "markdown",
   "metadata": {},
   "source": [
    "## Teste do KNN"
   ]
  },
  {
   "cell_type": "code",
   "execution_count": 6,
   "metadata": {},
   "outputs": [],
   "source": [
    "\n",
    "X_train_mfeat, X_test_mfeat, y_train_mfeat, y_test_mefeat =  train_test_split(mfeat,y, test_size=0.10, random_state=42)\n",
    "X_train_mfeatFou, X_test_mfeatFou, y_train_mfeatFou, y_test_mefeatFou =  train_test_split(mfeatFou,y, test_size=0.10, random_state=42)\n",
    "X_train_mfeatKa, X_test_mfeatKa, y_train_mfeatKa, y_test_mefeatKa =  train_test_split(mfeatKa,y, test_size=0.10, random_state=42)"
   ]
  },
  {
   "cell_type": "code",
   "execution_count": 7,
   "metadata": {},
   "outputs": [],
   "source": [
    "import knn"
   ]
  },
  {
   "cell_type": "code",
   "execution_count": 8,
   "metadata": {},
   "outputs": [],
   "source": [
    "k = knn.KNN()"
   ]
  },
  {
   "cell_type": "code",
   "execution_count": 9,
   "metadata": {},
   "outputs": [],
   "source": [
    "trains = [X_train_mfeat, X_train_mfeatFou, X_train_mfeatKa]\n",
    "y_trains = [y_train_mfeat,y_train_mfeatFou, y_train_mfeatKa]\n",
    "tests = [X_test_mfeat, X_test_mfeatFou, X_test_mfeatKa]"
   ]
  },
  {
   "cell_type": "code",
   "execution_count": 10,
   "metadata": {},
   "outputs": [],
   "source": [
    "k.fit(X_trains=trains, y_trains=y_trains, k=3)"
   ]
  },
  {
   "cell_type": "code",
   "execution_count": null,
   "metadata": {},
   "outputs": [],
   "source": [
    "y = k.predict(X_tests=tests)"
   ]
  },
  {
   "cell_type": "code",
   "execution_count": 13,
   "metadata": {},
   "outputs": [
    {
     "data": {
      "text/plain": [
       "0.965"
      ]
     },
     "execution_count": 13,
     "metadata": {},
     "output_type": "execute_result"
    }
   ],
   "source": [
    "accuracy_score(y_test_mefeatFou, y)"
   ]
  },
  {
   "cell_type": "code",
   "execution_count": 8,
   "metadata": {},
   "outputs": [],
   "source": [
    "kf = KFold(n_splits=10,shuffle=True)"
   ]
  },
  {
   "cell_type": "code",
   "execution_count": 10,
   "metadata": {},
   "outputs": [
    {
     "name": "stderr",
     "output_type": "stream",
     "text": [
      "100%|██████████| 30/30 [1:53:58<00:00, 216.98s/it]\n"
     ]
    }
   ],
   "source": [
    "list_acc = []\n",
    "count = 0\n",
    "\n",
    "\n",
    "for i in trange(0, 30):\n",
    "    acc_fold = []\n",
    "    for train_index, test_index in kf.split(np.array((mfeat))):\n",
    "       \n",
    "        X_trains = []\n",
    "        y_train_views = []\n",
    "        X_tests = []\n",
    "    \n",
    "        X_train_view1, X_test_view1 = mfeat[train_index], mfeat[test_index]\n",
    "        y_train_view1, y_test_view1 = y[train_index], y[test_index]\n",
    "      \n",
    "       \n",
    "       \n",
    "        X_train_view2, X_test_view2 = mfeatFou[train_index], mfeatFou[test_index]\n",
    "        y_train_view2, y_test_view2 = y[train_index], y[test_index]\n",
    "       \n",
    "   \n",
    "\n",
    "        X_train_view3, X_test_view3 = mfeatKa[train_index], mfeatKa[test_index]\n",
    "        y_train_view3, y_test_view3 = y[train_index], y[test_index]\n",
    "        \n",
    "  \n",
    "        \n",
    "        ##Values   \n",
    "        X_trains = [X_train_view1, X_train_view2, X_train_view3]\n",
    "        y_trains = [y_train_view1, y_train_view2, y_train_view3]\n",
    "        X_tests = [X_test_view1, X_test_view2, X_test_view3]\n",
    "        k = knn.KNN()\n",
    "        \n",
    "        k.fit(X_trains=X_trains, y_trains=y_trains, k=3)\n",
    "        \n",
    "        y_pred = k.predict(X_tests=X_tests);\n",
    "        \n",
    "        acc_fold = accuracy_score(y_test_view1, y_pred)\n",
    "        \n",
    "    list_acc.append(np.mean(acc_fold))"
   ]
  },
  {
   "cell_type": "markdown",
   "metadata": {},
   "source": [
    "## Histograma com as acurácias do KNN usando Kfold"
   ]
  },
  {
   "cell_type": "code",
   "execution_count": 27,
   "metadata": {},
   "outputs": [
    {
     "data": {
      "image/png": "[encoded data removed]",
      "text/plain": [
       "<Figure size 432x288 with 1 Axes>"
      ]
     },
     "metadata": {
      "needs_background": "light"
     },
     "output_type": "display_data"
    }
   ],
   "source": [
    "plt.hist(list_acc, bins=10);"
   ]
  },
  {
   "cell_type": "code",
   "execution_count": 23,
   "metadata": {},
   "outputs": [
    {
     "data": {
      "text/plain": [
       "0.9814999999999999"
      ]
     },
     "execution_count": 23,
     "metadata": {},
     "output_type": "execute_result"
    }
   ],
   "source": [
    "np.mean(list_acc)"
   ]
  }
 ],
 "metadata": {
  "kernelspec": {
   "display_name": "Python 3",
   "language": "python",
   "name": "python3"
  },
  "language_info": {
   "codemirror_mode": {
    "name": "ipython",
    "version": 3
   },
   "file_extension": ".py",
   "mimetype": "text/x-python",
   "name": "python",
   "nbconvert_exporter": "python",
   "pygments_lexer": "ipython3",
   "version": "3.6.8"
  }
 },
 "nbformat": 4,
 "nbformat_minor": 2
}
