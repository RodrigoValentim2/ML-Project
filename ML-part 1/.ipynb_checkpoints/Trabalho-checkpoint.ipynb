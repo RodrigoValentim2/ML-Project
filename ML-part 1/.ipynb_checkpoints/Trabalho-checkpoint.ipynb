{
 "cells": [
  {
   "cell_type": "code",
   "execution_count": 2,
   "metadata": {},
   "outputs": [],
   "source": [
    "import pandas as pd\n",
    "import numpy as np\n",
    "import math\n",
    "from sklearn.preprocessing import StandardScaler\n",
    "from tqdm import tqdm\n",
    "from time import sleep\n",
    "from tqdm import trange\n",
    "from sklearn.model_selection import train_test_split\n",
    "from sklearn.naive_bayes import GaussianNB\n",
    "import math as mt\n",
    "from numpy.linalg import inv, det"
   ]
  },
  {
   "cell_type": "markdown",
   "metadata": {},
   "source": [
    "## Leitura"
   ]
  },
  {
   "cell_type": "code",
   "execution_count": 3,
   "metadata": {},
   "outputs": [],
   "source": [
    "mfeat = pd.read_csv(\"mfeat/mfeat-fac\", delimiter=\"\\0\", sep=\"\\0\", header=None )\n",
    "mfeatFou = pd.read_csv(\"mfeat/mfeat-fou\", delimiter=\"\\0\", sep=\"\\0\", header=None )\n",
    "mfeatka = pd.read_csv(\"mfeat/mfeat-kar\", delimiter=\"\\0\", sep=\"\\0\", header=None )\n",
    "\n",
    "y = [0 for x in range(0, 200)]\n",
    "y += [1 for x in range(200, 400)]\n",
    "y += [2 for x in range(400, 600)]\n",
    "y += [3 for x in range(600, 800)]\n",
    "y += [4 for x in range(800, 1000)]\n",
    "y += [5 for x in range(1000, 1200)]\n",
    "y += [6 for x in range(1200, 1400)]\n",
    "y += [7 for x in range(1400, 1600)]\n",
    "y += [8 for x in range(1600, 1800)]\n",
    "y += [9 for x in range(1800, 2000)]"
   ]
  },
  {
   "cell_type": "code",
   "execution_count": 4,
   "metadata": {},
   "outputs": [
    {
     "data": {
      "text/plain": [
       "200"
      ]
     },
     "execution_count": 4,
     "metadata": {},
     "output_type": "execute_result"
    }
   ],
   "source": [
    "y.count(9)"
   ]
  },
  {
   "cell_type": "markdown",
   "metadata": {},
   "source": [
    "mfeat"
   ]
  },
  {
   "cell_type": "code",
   "execution_count": 5,
   "metadata": {},
   "outputs": [
    {
     "data": {
      "text/plain": [
       "array([['   98  236  531  673  607  647    2    9    3    6    8    5  225  517  652  624  628  994    7   22   28   13   10   19  305  481  667  663 1009  727   38   28   18   11   20   10  287  567  651  742  824  900   26   34   30    8   16   13  248  556  631  796  926  748   39   34   18    9   17   12  248  540  506  814 1051  728   38   28    5   13   16    8  246  518  751  579  699 1062   13   30   28   10   16   16  276  344  682  500  709  916   10   30   23   17   15   14  357  435  829  610  745  994   20    7   24   12   10    9  355  409  477  886  976  723   30   24   14    7    7    8  290  352  435  753  894  751   29   29    2   13   13   14  260  286  562  698  665  757   11    8   15   14    9    9  238  292  586  698  733  707    9    6   15   11   10   16  294  406  654  644  741 1000   18   23   17    9   20   11  302  418  561  709  961  776   21   25   12   12   19   10  360  328  607  984 1186  599   29    7   14    6    9    9  362  314  924  733  601 1216    4    8   20   10    9    5  251  421  474  536  628  632   18   36    8   15   12   13']],\n",
       "      dtype=object)"
      ]
     },
     "execution_count": 5,
     "metadata": {},
     "output_type": "execute_result"
    }
   ],
   "source": [
    "mfeat.values[:1]"
   ]
  },
  {
   "cell_type": "code",
   "execution_count": 6,
   "metadata": {},
   "outputs": [
    {
     "data": {
      "text/plain": [
       "array([['  0.06588172  0.19731169  0.10382563  0.27036171  0.61607757  0.03585575  0.42457192  0.08970119  0.36777339  0.03706516  0.07594178  0.26390595  0.07790313  0.37200891  0.21948485  0.05532691  0.10890633  0.12775213  0.11405136  0.01858087  0.10262683  0.17268198  0.07303320  0.14034402  0.13219889  0.07601515  0.03251728  0.12883987  0.12052641  0.01661452  0.10258255  0.10162490  0.06572986  0.03521252  0.07900934  0.08377258  0.02149083  0.12162476  0.06751158  0.03377662  0.09901323  0.05940796  0.08128562  0.05234493  0.09049952  0.06358191  0.08110426  0.05910051  0.09723591  0.04157573  0.08351457  0.04237858  0.08296503  0.07717036  0.11673209  0.03476068  0.10948465  0.01642286  0.09935212  0.11376267  0.08637167  0.16765423  0.10628061  0.12578294  0.09067476  0.08125645  0.12344814  0.11337439  0.07434256  0.28166630  0.06779520  0.34418162  0.03896293  0.39436572  0.04997072  0.34487096']],\n",
       "      dtype=object)"
      ]
     },
     "execution_count": 6,
     "metadata": {},
     "output_type": "execute_result"
    }
   ],
   "source": [
    "mfeatFou.values[:1]"
   ]
  },
  {
   "cell_type": "markdown",
   "metadata": {},
   "source": [
    "### Pré-processamento dos dados"
   ]
  },
  {
   "cell_type": "code",
   "execution_count": 7,
   "metadata": {
    "scrolled": true
   },
   "outputs": [],
   "source": [
    "#Retirando os espaços. Transformando da elemento em uma lista com valores númericos, Atribuindo isso a uma \n",
    "# lista com tudo processado e normaliza\n",
    "def processamento(data):\n",
    "    processado = []\n",
    "    for ex in data:\n",
    "        ex = ex[0].split(\" \")\n",
    "        exemplos1 = []\n",
    "        for element in ex:\n",
    "            if element != \"\":\n",
    "                exemplos1.append(element)\n",
    "        processado.append(exemplos1) \n",
    "    \n",
    "    ## Normaliza\n",
    "    processado = np.array(processado).astype(float)\n",
    "    scaler = StandardScaler()\n",
    "    scaler.fit(processado)\n",
    "    processado = scaler.transform(processado)\n",
    "    return processado\n",
    "   \n"
   ]
  },
  {
   "cell_type": "code",
   "execution_count": 8,
   "metadata": {},
   "outputs": [],
   "source": [
    "mfeat = processamento(mfeat.values)\n",
    "mfeatFou = processamento(mfeatFou.values)\n",
    "mfeatKa = processamento(mfeatka.values)"
   ]
  },
  {
   "cell_type": "code",
   "execution_count": 9,
   "metadata": {},
   "outputs": [
    {
     "name": "stdout",
     "output_type": "stream",
     "text": [
      "(2000, 216)\n",
      "(2000, 76)\n",
      "(2000, 64)\n"
     ]
    }
   ],
   "source": [
    "print(mfeat.shape)\n",
    "print(mfeatFou.shape)\n",
    "print(mfeatKa.shape)"
   ]
  },
  {
   "cell_type": "code",
   "execution_count": 9,
   "metadata": {},
   "outputs": [],
   "source": [
    "def dist_euclidiana(v1, v2):\n",
    "    dim, soma = len(v1), 0\n",
    "    for i in range(dim):\n",
    "        soma += math.pow(v1[i] - v2[i], 2)\n",
    "    return math.sqrt(soma)"
   ]
  },
  {
   "cell_type": "code",
   "execution_count": 43,
   "metadata": {},
   "outputs": [],
   "source": [
    "X_train_mfeat, X_test_mfeat, y_train_mfeat, y_test_mefeat =  train_test_split(mfeat,y, test_size=0.10, random_state=42)\n",
    "X_train_mfeatFou, X_test_mfeatFou, y_train_mfeatFou, y_test_mefeatFou =  train_test_split(mfeatFou,y, test_size=0.10, random_state=42)\n",
    "X_train_mfeatKa, X_test_mfeatKa =  train_test_split(mfeatKa, test_size=0.10, random_state=42)"
   ]
  },
  {
   "cell_type": "code",
   "execution_count": 11,
   "metadata": {},
   "outputs": [
    {
     "name": "stdout",
     "output_type": "stream",
     "text": [
      "(200, 216)\n",
      "(200, 76)\n",
      "(200, 64)\n"
     ]
    }
   ],
   "source": [
    "print(X_test_mfeat.shape)\n",
    "print(X_test_mfeatFou.shape)\n",
    "print(X_test_mfeatKa.shape)"
   ]
  },
  {
   "cell_type": "markdown",
   "metadata": {},
   "source": [
    "# Calcula as matrizes Euclidianas"
   ]
  },
  {
   "cell_type": "code",
   "execution_count": 12,
   "metadata": {},
   "outputs": [],
   "source": [
    "# Criando a matriz de semelhança a partir dos cálculos de distancia euclidiana\n",
    "def matriz_euclidiana(data):\n",
    "    matriz = []\n",
    "    for i in trange(len(data)):\n",
    "        lista = []\n",
    "        for j in range(len(data)):\n",
    "            if i != j:\n",
    "                lista.append(dist_euclidiana(data[i], data[j]))\n",
    "            else:\n",
    "                lista.append(0)\n",
    "\n",
    "        matriz.append(lista)\n",
    "    return np.asmatrix(matriz)"
   ]
  },
  {
   "cell_type": "code",
   "execution_count": 13,
   "metadata": {},
   "outputs": [
    {
     "name": "stderr",
     "output_type": "stream",
     "text": [
      "100%|██████████| 200/200 [00:03<00:00, 52.77it/s]\n",
      "100%|██████████| 200/200 [00:01<00:00, 144.54it/s]\n",
      "100%|██████████| 200/200 [00:01<00:00, 172.38it/s]\n"
     ]
    }
   ],
   "source": [
    "matriz_eucliada_mfeat = matriz_euclidiana(X_test_mfeat)\n",
    "matriz_eucliada_mfeatFou = matriz_euclidiana(X_test_mfeatFou)\n",
    "matriz_eucliada_mfeatKa = matriz_euclidiana(X_test_mfeatKa)"
   ]
  },
  {
   "cell_type": "code",
   "execution_count": 14,
   "metadata": {
    "scrolled": true
   },
   "outputs": [
    {
     "name": "stdout",
     "output_type": "stream",
     "text": [
      "(200, 200)\n",
      "(200, 200)\n",
      "(200, 200)\n"
     ]
    }
   ],
   "source": [
    "print(matriz_eucliada_mfeat.shape)\n",
    "print(matriz_eucliada_mfeatFou.shape)\n",
    "print(matriz_eucliada_mfeatKa.shape)"
   ]
  },
  {
   "cell_type": "markdown",
   "metadata": {},
   "source": [
    "# Bayes"
   ]
  },
  {
   "cell_type": "code",
   "execution_count": 391,
   "metadata": {},
   "outputs": [],
   "source": [
    "nb = GaussianNB()\n",
    "nb.fit(X_test_mfeat, y_test_mefeat);\n"
   ]
  },
  {
   "cell_type": "code",
   "execution_count": 406,
   "metadata": {},
   "outputs": [],
   "source": [
    "priori = nb.class_prior_\n",
    "sigma = nb.sigma_\n",
    "media = nb.theta_\n",
    "classes = nb.classes_\n",
    "x = X_test_mfeat\n"
   ]
  },
  {
   "cell_type": "code",
   "execution_count": 393,
   "metadata": {},
   "outputs": [
    {
     "data": {
      "text/plain": [
       "array([0.27091598, 0.1787104 , 0.2638195 , 0.67107042, 1.47257313,\n",
       "       0.40144112, 0.41209217, 0.45089191, 0.59853222, 0.59102949])"
      ]
     },
     "execution_count": 393,
     "metadata": {},
     "output_type": "execute_result"
    }
   ],
   "source": [
    "np.diag(sigma)"
   ]
  },
  {
   "cell_type": "code",
   "execution_count": 405,
   "metadata": {},
   "outputs": [
    {
     "name": "stdout",
     "output_type": "stream",
     "text": [
      "[[6.92392847e-171 1.76768561e-165 2.83127371e-167 ... 4.48791485e-163\n",
      "  9.64338974e-163 6.60011865e-165]\n",
      " [6.53084082e-166 2.95521652e-176 7.53030427e-169 ... 3.89672883e-156\n",
      "  1.27409012e-156 3.15775770e-157]\n",
      " [2.12330297e-168 4.83671021e-168 4.22554915e-174 ... 1.33326908e-161\n",
      "  4.74099085e-162 4.01586853e-168]\n",
      " ...\n",
      " [4.32755358e-163 1.12980374e-155 1.04265760e-161 ... 9.80603274e-178\n",
      "  2.56471638e-167 1.34492774e-170]\n",
      " [1.41436616e-161 7.32126164e-158 3.89813821e-161 ... 1.25049335e-165\n",
      "  6.12767968e-175 1.09827693e-164]\n",
      " [1.48563616e-162 1.95386435e-157 1.39636145e-167 ... 3.38534778e-170\n",
      "  1.19818747e-166 5.63891074e-190]]\n"
     ]
    }
   ],
   "source": [
    "diagonal = np.diag(sigma)\n",
    "for c in classes:\n",
    "\n",
    "    \n",
    "    sigma = np.asmatrix(sigma)\n",
    "    part1 = mt.pow(2*mt.pi, -x.shape[1]/2)*d\n",
    "  \n",
    "    ##determinante\n",
    "    matdet = np.zeros([10,10])\n",
    "    matdet[np.diag_indices_from(matdet)]  = diagonal\n",
    "    matdet = np.asmatrix(matdet)\n",
    "    determinante = mt.pow(det(inv(matdet)), 0.5)\n",
    "\n",
    "    ##calculo do exp\n",
    "\n",
    "\n",
    "    value1 = (-0.5*(x -media[c]).T)\n",
    "    value1 = value1.reshape(value1.shape[1], value1.shape[0])\n",
    "    value1 = np.dot(value1, a)\n",
    "    value1 = value1.reshape(value1.shape[1], value1.shape[0])\n",
    "\n",
    "    value2 = (x-media[c])\n",
    "\n",
    "    #value1 = np.abs((value1)).tolist()\n",
    "    #value2 = np.abs((value2)).tolist()\n",
    "    \n",
    "    exp = np.exp(np.dot(value1, value2))\n",
    "\n",
    "    #Resultado da condicional x a priori\n",
    "\n",
    "    rest = part1*exp\n",
    "\n",
    "    densidade = rest*priori[c]\n",
    "\n",
    "print(densidade)"
   ]
  },
  {
   "cell_type": "code",
   "execution_count": 411,
   "metadata": {},
   "outputs": [
    {
     "data": {
      "text/plain": [
       "5.311076331646792"
      ]
     },
     "execution_count": 411,
     "metadata": {},
     "output_type": "execute_result"
    }
   ],
   "source": [
    "np.sum(np.diag(sigma))"
   ]
  },
  {
   "cell_type": "code",
   "execution_count": 410,
   "metadata": {},
   "outputs": [
    {
     "data": {
      "text/plain": [
       "(216, 216)"
      ]
     },
     "execution_count": 410,
     "metadata": {},
     "output_type": "execute_result"
    }
   ],
   "source": [
    "np.diag(sigma[1]).shape"
   ]
  },
  {
   "cell_type": "code",
   "execution_count": null,
   "metadata": {},
   "outputs": [],
   "source": []
  }
 ],
 "metadata": {
  "kernelspec": {
   "display_name": "Python 3",
   "language": "python",
   "name": "python3"
  },
  "language_info": {
   "codemirror_mode": {
    "name": "ipython",
    "version": 3
   },
   "file_extension": ".py",
   "mimetype": "text/x-python",
   "name": "python",
   "nbconvert_exporter": "python",
   "pygments_lexer": "ipython3",
   "version": "3.6.8"
  }
 },
 "nbformat": 4,
 "nbformat_minor": 2
}
