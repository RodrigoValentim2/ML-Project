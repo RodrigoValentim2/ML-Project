{
 "cells": [
  {
   "cell_type": "code",
   "execution_count": 248,
   "metadata": {},
   "outputs": [],
   "source": [
    "import pandas as pd\n",
    "import numpy as np\n",
    "from matplotlib import pyplot as plt\n",
    "import seaborn as sns\n",
    "from scipy.stats import sem, t\n",
    "from scipy import mean\n",
    "from matplotlib import colors as mcolors\n",
    "from scipy import stats\n",
    "%matplotlib inline "
   ]
  },
  {
   "cell_type": "code",
   "execution_count": 159,
   "metadata": {},
   "outputs": [],
   "source": [
    "naive = pd.read_csv(\"results/accuracy_naive\")\n",
    "knn = pd.read_csv(\"results/accuracy_knn\")\n",
    "\n",
    "naive.rename(columns={'acc':'Acurácia Naive Bayes'},                     \n",
    "                 inplace=True)\n",
    "\n",
    "knn.rename(columns={'acc':'Acurácia KNN'},                     \n",
    "                 inplace=True)\n",
    "\n",
    "del(naive['Unnamed: 0'])\n",
    "del(knn['Unnamed: 0'])"
   ]
  },
  {
   "cell_type": "code",
   "execution_count": 157,
   "metadata": {},
   "outputs": [],
   "source": [
    "naive = naive['Acurácia Naive Bayes'].apply(lambda x: np.round(x, 2)).values\n",
    "knn = knn['Acurácia KNN'].apply(lambda x: np.round(x, 2)).values"
   ]
  },
  {
   "cell_type": "markdown",
   "metadata": {},
   "source": [
    "# Gráfico com acurácias do Naive e o KNN"
   ]
  },
  {
   "cell_type": "code",
   "execution_count": 158,
   "metadata": {},
   "outputs": [
    {
     "data": {
      "image/png": "[encoded data removed]",
      "text/plain": [
       "<Figure size 792x288 with 1 Axes>"
      ]
     },
     "metadata": {
      "needs_background": "light"
     },
     "output_type": "display_data"
    }
   ],
   "source": [
    "\n",
    "ind = np.arange(0,30)  # the x locations for the groups\n",
    "width = 0.50  # the width of the bars\n",
    "\n",
    "fig, ax = plt.subplots()\n",
    "fig = fig.set_size_inches(11, 4, forward=True)\n",
    "\n",
    "\n",
    "rects1 = ax.bar(ind - width/2, naive, width,\n",
    "                label='Naive Bayes')\n",
    "rects2 = ax.bar(ind + width/2, knn, width,\n",
    "                label='KNN')\n",
    "\n",
    "ax.set_ylabel('Acurácia')\n",
    "ax.set_xlabel('Iterações')\n",
    "ax.set_title('Acurácias dos algoritmos')\n",
    "ax.set_xticks(ind)\n",
    "ax.set_xticklabels(range(0,30))\n",
    "ax.legend(loc='center left', bbox_to_anchor=(1, 0.5));\n",
    "\n",
    "        \n",
    "plt.show()   \n"
   ]
  },
  {
   "cell_type": "code",
   "execution_count": 160,
   "metadata": {},
   "outputs": [],
   "source": [
    "data_all = pd.concat([naive, knn], axis=1)"
   ]
  },
  {
   "cell_type": "code",
   "execution_count": 162,
   "metadata": {},
   "outputs": [],
   "source": [
    "data_all.index.name = \"iteração\""
   ]
  },
  {
   "cell_type": "code",
   "execution_count": 179,
   "metadata": {},
   "outputs": [],
   "source": [
    "data_all['Diferença'] = list(map(lambda x, y:np.round(x-y, 3), data_all['Acurácia Naive Bayes'].values, data_all['Acurácia KNN'].values))"
   ]
  },
  {
   "cell_type": "code",
   "execution_count": 181,
   "metadata": {
    "scrolled": true
   },
   "outputs": [
    {
     "data": {
      "text/html": [
       "<div>\n",
       "<style scoped>\n",
       "    .dataframe tbody tr th:only-of-type {\n",
       "        vertical-align: middle;\n",
       "    }\n",
       "\n",
       "    .dataframe tbody tr th {\n",
       "        vertical-align: top;\n",
       "    }\n",
       "\n",
       "    .dataframe thead th {\n",
       "        text-align: right;\n",
       "    }\n",
       "</style>\n",
       "<table border=\"1\" class=\"dataframe\">\n",
       "  <thead>\n",
       "    <tr style=\"text-align: right;\">\n",
       "      <th></th>\n",
       "      <th>Acurácia Naive Bayes</th>\n",
       "      <th>Acurácia KNN</th>\n",
       "      <th>Diferença</th>\n",
       "    </tr>\n",
       "    <tr>\n",
       "      <th>iteração</th>\n",
       "      <th></th>\n",
       "      <th></th>\n",
       "      <th></th>\n",
       "    </tr>\n",
       "  </thead>\n",
       "  <tbody>\n",
       "    <tr>\n",
       "      <th>0</th>\n",
       "      <td>0.685</td>\n",
       "      <td>0.750</td>\n",
       "      <td>-0.065</td>\n",
       "    </tr>\n",
       "    <tr>\n",
       "      <th>1</th>\n",
       "      <td>0.640</td>\n",
       "      <td>0.730</td>\n",
       "      <td>-0.090</td>\n",
       "    </tr>\n",
       "    <tr>\n",
       "      <th>2</th>\n",
       "      <td>0.725</td>\n",
       "      <td>0.770</td>\n",
       "      <td>-0.045</td>\n",
       "    </tr>\n",
       "    <tr>\n",
       "      <th>3</th>\n",
       "      <td>0.675</td>\n",
       "      <td>0.695</td>\n",
       "      <td>-0.020</td>\n",
       "    </tr>\n",
       "    <tr>\n",
       "      <th>4</th>\n",
       "      <td>0.760</td>\n",
       "      <td>0.720</td>\n",
       "      <td>0.040</td>\n",
       "    </tr>\n",
       "  </tbody>\n",
       "</table>\n",
       "</div>"
      ],
      "text/plain": [
       "          Acurácia Naive Bayes  Acurácia KNN  Diferença\n",
       "iteração                                               \n",
       "0                        0.685         0.750     -0.065\n",
       "1                        0.640         0.730     -0.090\n",
       "2                        0.725         0.770     -0.045\n",
       "3                        0.675         0.695     -0.020\n",
       "4                        0.760         0.720      0.040"
      ]
     },
     "execution_count": 181,
     "metadata": {},
     "output_type": "execute_result"
    }
   ],
   "source": [
    "data_all.head()"
   ]
  },
  {
   "cell_type": "markdown",
   "metadata": {},
   "source": [
    "# Intervalo de confiança para as médias de acurácia do Naive Bays"
   ]
  },
  {
   "cell_type": "code",
   "execution_count": 277,
   "metadata": {},
   "outputs": [
    {
     "name": "stdout",
     "output_type": "stream",
     "text": [
      "Limite inferior: 0.612 \n",
      "Limite superior: 0.701\n"
     ]
    }
   ],
   "source": [
    " intervalo_naive =  stats.norm.interval(0.95,  loc=np.mean(naive), scale= np.std(naive)/np.sqrt(30))\n",
    "\n",
    "print(\"Limite inferior: {} \\nLimite superior: {}\".format(np.round(intervalo_naive[0][0], 3), np.round(intervalo_naive[1][0], 3)))\n"
   ]
  },
  {
   "cell_type": "markdown",
   "metadata": {},
   "source": [
    "# Intervalo de confiança para as médias de acurácia do KNN"
   ]
  },
  {
   "cell_type": "code",
   "execution_count": 282,
   "metadata": {},
   "outputs": [
    {
     "name": "stdout",
     "output_type": "stream",
     "text": [
      "Limite inferior: 0.725 \n",
      "Limite superior: 0.747\n"
     ]
    }
   ],
   "source": [
    " intervalo_knn =  stats.norm.interval(0.95, np.mean(knn), np.std(knn)/np.sqrt(30))\n",
    "\n",
    "print(\"Limite inferior: {} \\nLimite superior: {}\".format(np.round(intervalo_knn[0][0], 3), np.round(intervalo_knn[1][0], 3)))"
   ]
  }
 ],
 "metadata": {
  "kernelspec": {
   "display_name": "Python 3",
   "language": "python",
   "name": "python3"
  },
  "language_info": {
   "codemirror_mode": {
    "name": "ipython",
    "version": 3
   },
   "file_extension": ".py",
   "mimetype": "text/x-python",
   "name": "python",
   "nbconvert_exporter": "python",
   "pygments_lexer": "ipython3",
   "version": "3.6.8"
  }
 },
 "nbformat": 4,
 "nbformat_minor": 2
}
