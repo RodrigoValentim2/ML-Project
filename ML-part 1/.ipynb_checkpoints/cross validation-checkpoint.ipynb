{
 "cells": [
  {
   "cell_type": "code",
   "execution_count": 7,
   "metadata": {},
   "outputs": [],
   "source": [
    "from Naive_bayes import NaiveBayes\n",
    "import pandas as pd\n",
    "import numpy as np\n",
    "from scipy.spatial.distance import pdist, squareform\n",
    "from scipy.spatial import distance \n",
    "import math\n",
    "from sklearn.preprocessing import StandardScaler, MinMaxScaler\n",
    "from tqdm import tqdm\n",
    "from time import sleep\n",
    "from tqdm import trange\n",
    "from sklearn.model_selection import train_test_split\n",
    "from sklearn.naive_bayes import GaussianNB\n",
    "import math as mt\n",
    "import time\n",
    "from numpy.linalg import inv, det\n",
    "from matplotlib import pyplot as plt\n",
    "import warnings\n",
    "warnings.filterwarnings('ignore')\n",
    "from sklearn.metrics import accuracy_score\n",
    "from sklearn.model_selection import RepeatedStratifiedKFold\n",
    "from sklearn.model_selection import KFold\n",
    "from numba import jit\n",
    "import numpy as np\n",
    "%matplotlib inline"
   ]
  },
  {
   "cell_type": "code",
   "execution_count": 8,
   "metadata": {},
   "outputs": [],
   "source": [
    "mfeat = pd.read_csv(\"mfeat/mfeat-fac\", delimiter=\"\\0\", sep=\"\\0\", header=None )\n",
    "mfeatFou = pd.read_csv(\"mfeat/mfeat-fou\", delimiter=\"\\0\", sep=\"\\0\", header=None )\n",
    "mfeatka = pd.read_csv(\"mfeat/mfeat-kar\", delimiter=\"\\0\", sep=\"\\0\", header=None )\n",
    "y = pd.read_csv(\"results/fuzzy_crisp_partition_572953998.csv\",sep=\"\\n\", header=None)\n",
    "y = y.values\n",
    "y  = [y[i][0] for i in range(len(y))]\n",
    "y = np.array(y)"
   ]
  },
  {
   "cell_type": "code",
   "execution_count": 9,
   "metadata": {},
   "outputs": [
    {
     "data": {
      "text/plain": [
       "array([0, 1, 2, 3, 4, 5, 6, 7, 8, 9])"
      ]
     },
     "execution_count": 9,
     "metadata": {},
     "output_type": "execute_result"
    }
   ],
   "source": [
    "np.unique(y)"
   ]
  },
  {
   "cell_type": "code",
   "execution_count": 10,
   "metadata": {},
   "outputs": [],
   "source": [
    "#Retirando os espaços. Transformando da elemento em uma lista com valores númericos, Atribuindo isso a uma \n",
    "# lista com tudo processado e normaliza\n",
    "def preprocessing(data):\n",
    "    new_data = []\n",
    "    for ex in data:\n",
    "        ex = ex[0].split(\" \")\n",
    "        exemplos1 = []\n",
    "        for element in ex:\n",
    "            if element != \"\":\n",
    "                exemplos1.append(element)\n",
    "        new_data.append(exemplos1) \n",
    "    \n",
    "    ## Normaliza\n",
    "  \n",
    "    new_data = np.array(new_data).astype(float)\n",
    "    scaler = StandardScaler()\n",
    "    scaler.fit(new_data)\n",
    "    new_data = scaler.transform(new_data)\n",
    "    return new_data\n",
    "   "
   ]
  },
  {
   "cell_type": "code",
   "execution_count": 11,
   "metadata": {},
   "outputs": [],
   "source": [
    "mfeat =  preprocessing(mfeat.values)\n",
    "mfeatFou =  preprocessing(mfeatFou.values)\n",
    "mfeatKa =  preprocessing(mfeatka.values)"
   ]
  },
  {
   "cell_type": "code",
   "execution_count": 46,
   "metadata": {},
   "outputs": [],
   "source": [
    "kf = KFold(n_splits=10,shuffle=True)"
   ]
  },
  {
   "cell_type": "code",
   "execution_count": 50,
   "metadata": {},
   "outputs": [
    {
     "data": {
      "text/plain": [
       "0.6664999999999998"
      ]
     },
     "execution_count": 50,
     "metadata": {},
     "output_type": "execute_result"
    }
   ],
   "source": [
    " np.mean(list_acc_n)"
   ]
  },
  {
   "cell_type": "markdown",
   "metadata": {},
   "source": [
    "## Validação do KNN"
   ]
  },
  {
   "cell_type": "code",
   "execution_count": 48,
   "metadata": {},
   "outputs": [],
   "source": [
    "acc_naive = pd.DataFrame(list_acc_n, columns=['acc'])\n",
    "acc_naive_csv = acc_naive.to_csv()\n",
    "arq = open(\"results/accuracy_naive\", \"w\")\n",
    "arq.write(acc_naive_csv)\n",
    "arq.close()"
   ]
  },
  {
   "cell_type": "code",
   "execution_count": 12,
   "metadata": {},
   "outputs": [],
   "source": [
    "from knn import KNN"
   ]
  },
  {
   "cell_type": "code",
   "execution_count": 13,
   "metadata": {},
   "outputs": [],
   "source": [
    "k = KNN()"
   ]
  },
  {
   "cell_type": "code",
   "execution_count": 14,
   "metadata": {},
   "outputs": [],
   "source": [
    "\n",
    "X_train_mfeat, X_test_mfeat, y_train_mfeat, y_test_mfeat =  train_test_split(mfeat,y, test_size=0.10, random_state=42)\n",
    "X_train_mfeatFou, X_test_mfeatFou, y_train_mfeatFou, y_test_mfeatFou =  train_test_split(mfeatFou,y, test_size=0.10, random_state=42)\n",
    "X_train_mfeatKa, X_test_mfeatKa, y_train_mfeatKa, y_test_mfeatKa =  train_test_split(mfeatKa,y, test_size=0.10, random_state=42)"
   ]
  },
  {
   "cell_type": "code",
   "execution_count": 15,
   "metadata": {},
   "outputs": [],
   "source": [
    "trains = [X_train_mfeat, X_train_mfeatFou, X_train_mfeatKa]\n",
    "y_trains = [y_train_mfeat,y_train_mfeatFou, y_train_mfeatKa]\n",
    "tests = [X_test_mfeat, X_test_mfeatFou, X_test_mfeatKa]"
   ]
  },
  {
   "cell_type": "code",
   "execution_count": 16,
   "metadata": {},
   "outputs": [
    {
     "name": "stdout",
     "output_type": "stream",
     "text": [
      "K:  3  ACC:  0.75\n",
      "K:  5  ACC:  0.75\n",
      "K:  7  ACC:  0.76\n",
      "K:  11  ACC:  0.745\n",
      "K:  13  ACC:  0.74\n"
     ]
    }
   ],
   "source": [
    "ks = [3,5,7, 11, 13]\n",
    "for k in ks:\n",
    "    model_knn = KNN()\n",
    "    model_knn.fit(X_trains=trains, y_trains=y_trains, k=k)\n",
    "    y =model_knn.predict(X_tests=tests)   \n",
    "    print(\"K: \", k, \" ACC: \", accuracy_score(y_test_mfeatFou, y))\n"
   ]
  },
  {
   "cell_type": "code",
   "execution_count": 20,
   "metadata": {},
   "outputs": [],
   "source": [
    "kf = KFold(n_splits=10,shuffle=True)"
   ]
  },
  {
   "cell_type": "code",
   "execution_count": 32,
   "metadata": {},
   "outputs": [
    {
     "name": "stderr",
     "output_type": "stream",
     "text": [
      "\n",
      "\n",
      "\n",
      "\n",
      "  0%|          | 0/30 [00:00<?, ?it/s]\u001b[A\u001b[A\u001b[A\u001b[A\n",
      "\n",
      "\n",
      "\n",
      "  3%|▎         | 1/30 [04:57<2:24:00, 297.95s/it]\u001b[A\u001b[A\u001b[A\u001b[A\n",
      "\n",
      "\n",
      "\n",
      "  7%|▋         | 2/30 [09:36<2:16:22, 292.23s/it]\u001b[A\u001b[A\u001b[A\u001b[A\n",
      "\n",
      "\n",
      "\n",
      " 10%|█         | 3/30 [14:45<2:13:43, 297.18s/it]\u001b[A\u001b[A\u001b[A\u001b[A\n",
      "\n",
      "\n",
      "\n",
      " 13%|█▎        | 4/30 [19:56<2:10:32, 301.26s/it]\u001b[A\u001b[A\u001b[A\u001b[A\n",
      "\n",
      "\n",
      "\n",
      " 17%|█▋        | 5/30 [25:06<2:06:40, 304.00s/it]\u001b[A\u001b[A\u001b[A\u001b[A\n",
      "\n",
      "\n",
      "\n",
      " 20%|██        | 6/30 [30:05<2:00:55, 302.30s/it]\u001b[A\u001b[A\u001b[A\u001b[A\n",
      "\n",
      "\n",
      "\n",
      " 23%|██▎       | 7/30 [35:08<1:56:04, 302.79s/it]\u001b[A\u001b[A\u001b[A\u001b[A\n",
      "\n",
      "\n",
      "\n",
      " 27%|██▋       | 8/30 [40:14<1:51:19, 303.61s/it]\u001b[A\u001b[A\u001b[A\u001b[A\n",
      "\n",
      "\n",
      "\n",
      " 30%|███       | 9/30 [45:17<1:46:13, 303.51s/it]\u001b[A\u001b[A\u001b[A\u001b[A\n",
      "\n",
      "\n",
      "\n",
      " 33%|███▎      | 10/30 [50:21<1:41:11, 303.57s/it]\u001b[A\u001b[A\u001b[A\u001b[A\n",
      "\n",
      "\n",
      "\n",
      " 37%|███▋      | 11/30 [55:24<1:36:02, 303.28s/it]\u001b[A\u001b[A\u001b[A\u001b[A\n",
      "\n",
      "\n",
      "\n",
      " 40%|████      | 12/30 [1:00:26<1:30:53, 303.00s/it]\u001b[A\u001b[A\u001b[A\u001b[A\n",
      "\n",
      "\n",
      "\n",
      " 43%|████▎     | 13/30 [1:05:28<1:25:47, 302.77s/it]\u001b[A\u001b[A\u001b[A\u001b[A\n",
      "\n",
      "\n",
      "\n",
      " 47%|████▋     | 14/30 [1:10:31<1:20:44, 302.78s/it]\u001b[A\u001b[A\u001b[A\u001b[A\n",
      "\n",
      "\n",
      "\n",
      " 50%|█████     | 15/30 [1:15:34<1:15:41, 302.78s/it]\u001b[A\u001b[A\u001b[A\u001b[A\n",
      "\n",
      "\n",
      "\n",
      " 53%|█████▎    | 16/30 [1:20:15<1:09:06, 296.17s/it]\u001b[A\u001b[A\u001b[A\u001b[A\n",
      "\n",
      "\n",
      "\n",
      " 57%|█████▋    | 17/30 [1:25:46<1:06:28, 306.83s/it]\u001b[A\u001b[A\u001b[A\u001b[A\n",
      "\n",
      "\n",
      "\n",
      " 60%|██████    | 18/30 [1:31:17<1:02:46, 313.91s/it]\u001b[A\u001b[A\u001b[A\u001b[A\n",
      "\n",
      "\n",
      "\n",
      " 63%|██████▎   | 19/30 [1:37:05<59:27, 324.36s/it]  \u001b[A\u001b[A\u001b[A\u001b[A\n",
      "\n",
      "\n",
      "\n",
      " 67%|██████▋   | 20/30 [1:42:07<52:56, 317.66s/it]\u001b[A\u001b[A\u001b[A\u001b[A\n",
      "\n",
      "\n",
      "\n",
      " 70%|███████   | 21/30 [1:46:50<46:05, 307.24s/it]\u001b[A\u001b[A\u001b[A\u001b[A\n",
      "\n",
      "\n",
      "\n",
      " 73%|███████▎  | 22/30 [1:51:33<39:59, 299.98s/it]\u001b[A\u001b[A\u001b[A\u001b[A\n",
      "\n",
      "\n",
      "\n",
      " 77%|███████▋  | 23/30 [1:56:14<34:18, 294.11s/it]\u001b[A\u001b[A\u001b[A\u001b[A\n",
      "\n",
      "\n",
      "\n",
      " 80%|████████  | 24/30 [2:00:55<29:01, 290.21s/it]\u001b[A\u001b[A\u001b[A\u001b[A\n",
      "\n",
      "\n",
      "\n",
      " 83%|████████▎ | 25/30 [2:05:39<24:01, 288.31s/it]\u001b[A\u001b[A\u001b[A\u001b[A\n",
      "\n",
      "\n",
      "\n",
      " 87%|████████▋ | 26/30 [2:10:22<19:07, 286.77s/it]\u001b[A\u001b[A\u001b[A\u001b[A\n",
      "\n",
      "\n",
      "\n",
      " 90%|█████████ | 27/30 [2:15:58<15:04, 301.53s/it]\u001b[A\u001b[A\u001b[A\u001b[A\n",
      "\n",
      "\n",
      "\n",
      " 93%|█████████▎| 28/30 [2:21:33<10:23, 311.53s/it]\u001b[A\u001b[A\u001b[A\u001b[A\n",
      "\n",
      "\n",
      "\n",
      " 97%|█████████▋| 29/30 [2:26:58<05:15, 315.56s/it]\u001b[A\u001b[A\u001b[A\u001b[A\n",
      "\n",
      "\n",
      "\n",
      "100%|██████████| 30/30 [2:32:24<00:00, 318.80s/it]\u001b[A\u001b[A\u001b[A\u001b[A\n",
      "\n",
      "\n",
      "\n",
      "\u001b[A\u001b[A\u001b[A\u001b[A"
     ]
    }
   ],
   "source": [
    "\n",
    "list_acc_n = []\n",
    "list_acc_k = []\n",
    "count = 0\n",
    "\n",
    "\n",
    "for i in trange(0, 30):\n",
    "    acc_fold_n = []\n",
    "    acc_fold_k = []\n",
    "    for train_index, test_index in kf.split(np.array((mfeat))):\n",
    "       \n",
    "        X_trains = []\n",
    "        y_train_views = []\n",
    "        X_tests = []\n",
    "    \n",
    "        X_train_view1, X_test_view1 = mfeat[train_index], mfeat[test_index]\n",
    "        y_train_view1, y_test_view1 = y[train_index], y[test_index]\n",
    "      \n",
    "       \n",
    "       \n",
    "        X_train_view2, X_test_view2 = mfeatFou[train_index], mfeatFou[test_index]\n",
    "        y_train_view2, y_test_view2 = y[train_index], y[test_index]\n",
    "       \n",
    "   \n",
    "\n",
    "        X_train_view3, X_test_view3 = mfeatKa[train_index], mfeatKa[test_index]\n",
    "        y_train_view3, y_test_view3 = y[train_index], y[test_index]\n",
    "        \n",
    "  \n",
    "        \n",
    "        ##Values   \n",
    "        X_trains = [X_train_view1, X_train_view2, X_train_view3]\n",
    "        y_train_views = [y_train_view1, y_train_view2, y_train_view3]\n",
    "        X_tests = [X_test_view1, X_test_view2, X_test_view3]\n",
    "        nb = NaiveBayes()\n",
    "        \n",
    "        nb.fit(X_trains, y_train_views)\n",
    "        \n",
    "        y_pred_n = nb.predict(X_tests=X_tests);\n",
    "        \n",
    "        acc_fold_n = accuracy_score(y_test_view1, y_pred_n)\n",
    "        \n",
    "        k = KNN()\n",
    "        \n",
    "        k.fit(X_trains=X_trains, y_trains=y_trains, k=7)\n",
    "        \n",
    "        y_pred_k = k.predict(X_tests=X_tests);\n",
    "        \n",
    "        acc_fold_k = accuracy_score(y_test_view1, y_pred_k)\n",
    "        \n",
    "    list_acc_n.append(np.mean(acc_fold_n))\n",
    "    list_acc_k.append(np.mean(acc_fold_k))"
   ]
  },
  {
   "cell_type": "code",
   "execution_count": 33,
   "metadata": {},
   "outputs": [
    {
     "data": {
      "text/plain": [
       "0.6564999999999999"
      ]
     },
     "execution_count": 33,
     "metadata": {},
     "output_type": "execute_result"
    }
   ],
   "source": [
    "np.mean(list_acc_n)"
   ]
  },
  {
   "cell_type": "code",
   "execution_count": 35,
   "metadata": {},
   "outputs": [
    {
     "data": {
      "text/plain": [
       "[0.595,\n",
       " 0.525,\n",
       " 0.6,\n",
       " 0.535,\n",
       " 0.595,\n",
       " 0.57,\n",
       " 0.59,\n",
       " 0.56,\n",
       " 0.62,\n",
       " 0.59,\n",
       " 0.675,\n",
       " 0.595,\n",
       " 0.58,\n",
       " 0.55,\n",
       " 0.63,\n",
       " 0.575,\n",
       " 0.605,\n",
       " 0.605,\n",
       " 0.54,\n",
       " 0.58,\n",
       " 0.585,\n",
       " 0.585,\n",
       " 0.595,\n",
       " 0.6,\n",
       " 0.58,\n",
       " 0.62,\n",
       " 0.565,\n",
       " 0.65,\n",
       " 0.585,\n",
       " 0.525]"
      ]
     },
     "execution_count": 35,
     "metadata": {},
     "output_type": "execute_result"
    }
   ],
   "source": [
    "list_acc_k"
   ]
  },
  {
   "cell_type": "code",
   "execution_count": 28,
   "metadata": {},
   "outputs": [
    {
     "name": "stderr",
     "output_type": "stream",
     "text": [
      "\n",
      "\n",
      "  0%|          | 0/30 [00:00<?, ?it/s]\u001b[A\u001b[A\n",
      "\n",
      "\u001b[A\u001b[A"
     ]
    },
    {
     "ename": "IndexError",
     "evalue": "list index out of range",
     "output_type": "error",
     "traceback": [
      "\u001b[0;31m---------------------------------------------------------------------------\u001b[0m",
      "\u001b[0;31mIndexError\u001b[0m                                Traceback (most recent call last)",
      "\u001b[0;32m<ipython-input-28-80850a8be596>\u001b[0m in \u001b[0;36m<module>\u001b[0;34m()\u001b[0m\n\u001b[1;32m     35\u001b[0m         \u001b[0mnb\u001b[0m\u001b[0;34m.\u001b[0m\u001b[0mfit\u001b[0m\u001b[0;34m(\u001b[0m\u001b[0mX_trains\u001b[0m\u001b[0;34m,\u001b[0m \u001b[0my_train_views\u001b[0m\u001b[0;34m)\u001b[0m\u001b[0;34m\u001b[0m\u001b[0;34m\u001b[0m\u001b[0m\n\u001b[1;32m     36\u001b[0m \u001b[0;34m\u001b[0m\u001b[0m\n\u001b[0;32m---> 37\u001b[0;31m         \u001b[0my_pred\u001b[0m \u001b[0;34m=\u001b[0m \u001b[0mnb\u001b[0m\u001b[0;34m.\u001b[0m\u001b[0mpredict\u001b[0m\u001b[0;34m(\u001b[0m\u001b[0mX_tests\u001b[0m\u001b[0;34m=\u001b[0m\u001b[0mX_tests\u001b[0m\u001b[0;34m)\u001b[0m\u001b[0;34m;\u001b[0m\u001b[0;34m\u001b[0m\u001b[0;34m\u001b[0m\u001b[0m\n\u001b[0m\u001b[1;32m     38\u001b[0m \u001b[0;34m\u001b[0m\u001b[0m\n\u001b[1;32m     39\u001b[0m         \u001b[0macc_fold\u001b[0m \u001b[0;34m=\u001b[0m \u001b[0maccuracy_score\u001b[0m\u001b[0;34m(\u001b[0m\u001b[0my_test_view1\u001b[0m\u001b[0;34m,\u001b[0m \u001b[0my_pred\u001b[0m\u001b[0;34m)\u001b[0m\u001b[0;34m\u001b[0m\u001b[0;34m\u001b[0m\u001b[0m\n",
      "\u001b[0;32m~/Videos/ML/ML-part 1/Naive_bayes.py\u001b[0m in \u001b[0;36mpredict\u001b[0;34m(self, X_tests)\u001b[0m\n\u001b[1;32m     81\u001b[0m \u001b[0;34m\u001b[0m\u001b[0m\n\u001b[1;32m     82\u001b[0m         \u001b[0;31m##denstities\u001b[0m\u001b[0;34m\u001b[0m\u001b[0;34m\u001b[0m\u001b[0;34m\u001b[0m\u001b[0m\n\u001b[0;32m---> 83\u001b[0;31m         \u001b[0mself\u001b[0m\u001b[0;34m.\u001b[0m\u001b[0mdensities_view1\u001b[0m \u001b[0;34m=\u001b[0m  \u001b[0;34m[\u001b[0m\u001b[0mself\u001b[0m\u001b[0;34m.\u001b[0m\u001b[0mcalc_density\u001b[0m\u001b[0;34m(\u001b[0m\u001b[0mxi\u001b[0m\u001b[0;34m,\u001b[0m \u001b[0mself\u001b[0m\u001b[0;34m.\u001b[0m\u001b[0mparameters_views\u001b[0m\u001b[0;34m[\u001b[0m\u001b[0;36m0\u001b[0m\u001b[0;34m]\u001b[0m\u001b[0;34m)\u001b[0m \u001b[0;32mfor\u001b[0m \u001b[0mxi\u001b[0m \u001b[0;32min\u001b[0m \u001b[0mX_tests\u001b[0m\u001b[0;34m[\u001b[0m\u001b[0;36m0\u001b[0m\u001b[0;34m]\u001b[0m\u001b[0;34m]\u001b[0m\u001b[0;34m\u001b[0m\u001b[0;34m\u001b[0m\u001b[0m\n\u001b[0m\u001b[1;32m     84\u001b[0m         \u001b[0mself\u001b[0m\u001b[0;34m.\u001b[0m\u001b[0mdensities_view2\u001b[0m \u001b[0;34m=\u001b[0m  \u001b[0;34m[\u001b[0m\u001b[0mself\u001b[0m\u001b[0;34m.\u001b[0m\u001b[0mcalc_density\u001b[0m\u001b[0;34m(\u001b[0m\u001b[0mxi\u001b[0m\u001b[0;34m,\u001b[0m \u001b[0mself\u001b[0m\u001b[0;34m.\u001b[0m\u001b[0mparameters_views\u001b[0m\u001b[0;34m[\u001b[0m\u001b[0;36m1\u001b[0m\u001b[0;34m]\u001b[0m\u001b[0;34m)\u001b[0m \u001b[0;32mfor\u001b[0m \u001b[0mxi\u001b[0m \u001b[0;32min\u001b[0m \u001b[0mX_tests\u001b[0m\u001b[0;34m[\u001b[0m\u001b[0;36m1\u001b[0m\u001b[0;34m]\u001b[0m\u001b[0;34m]\u001b[0m\u001b[0;34m\u001b[0m\u001b[0;34m\u001b[0m\u001b[0m\n\u001b[1;32m     85\u001b[0m         \u001b[0mself\u001b[0m\u001b[0;34m.\u001b[0m\u001b[0mdensities_view3\u001b[0m \u001b[0;34m=\u001b[0m  \u001b[0;34m[\u001b[0m\u001b[0mself\u001b[0m\u001b[0;34m.\u001b[0m\u001b[0mcalc_density\u001b[0m\u001b[0;34m(\u001b[0m\u001b[0mxi\u001b[0m\u001b[0;34m,\u001b[0m \u001b[0mself\u001b[0m\u001b[0;34m.\u001b[0m\u001b[0mparameters_views\u001b[0m\u001b[0;34m[\u001b[0m\u001b[0;36m2\u001b[0m\u001b[0;34m]\u001b[0m\u001b[0;34m)\u001b[0m \u001b[0;32mfor\u001b[0m \u001b[0mxi\u001b[0m \u001b[0;32min\u001b[0m \u001b[0mX_tests\u001b[0m\u001b[0;34m[\u001b[0m\u001b[0;36m2\u001b[0m\u001b[0;34m]\u001b[0m\u001b[0;34m]\u001b[0m\u001b[0;34m\u001b[0m\u001b[0;34m\u001b[0m\u001b[0m\n",
      "\u001b[0;32m~/Videos/ML/ML-part 1/Naive_bayes.py\u001b[0m in \u001b[0;36m<listcomp>\u001b[0;34m(.0)\u001b[0m\n\u001b[1;32m     81\u001b[0m \u001b[0;34m\u001b[0m\u001b[0m\n\u001b[1;32m     82\u001b[0m         \u001b[0;31m##denstities\u001b[0m\u001b[0;34m\u001b[0m\u001b[0;34m\u001b[0m\u001b[0;34m\u001b[0m\u001b[0m\n\u001b[0;32m---> 83\u001b[0;31m         \u001b[0mself\u001b[0m\u001b[0;34m.\u001b[0m\u001b[0mdensities_view1\u001b[0m \u001b[0;34m=\u001b[0m  \u001b[0;34m[\u001b[0m\u001b[0mself\u001b[0m\u001b[0;34m.\u001b[0m\u001b[0mcalc_density\u001b[0m\u001b[0;34m(\u001b[0m\u001b[0mxi\u001b[0m\u001b[0;34m,\u001b[0m \u001b[0mself\u001b[0m\u001b[0;34m.\u001b[0m\u001b[0mparameters_views\u001b[0m\u001b[0;34m[\u001b[0m\u001b[0;36m0\u001b[0m\u001b[0;34m]\u001b[0m\u001b[0;34m)\u001b[0m \u001b[0;32mfor\u001b[0m \u001b[0mxi\u001b[0m \u001b[0;32min\u001b[0m \u001b[0mX_tests\u001b[0m\u001b[0;34m[\u001b[0m\u001b[0;36m0\u001b[0m\u001b[0;34m]\u001b[0m\u001b[0;34m]\u001b[0m\u001b[0;34m\u001b[0m\u001b[0;34m\u001b[0m\u001b[0m\n\u001b[0m\u001b[1;32m     84\u001b[0m         \u001b[0mself\u001b[0m\u001b[0;34m.\u001b[0m\u001b[0mdensities_view2\u001b[0m \u001b[0;34m=\u001b[0m  \u001b[0;34m[\u001b[0m\u001b[0mself\u001b[0m\u001b[0;34m.\u001b[0m\u001b[0mcalc_density\u001b[0m\u001b[0;34m(\u001b[0m\u001b[0mxi\u001b[0m\u001b[0;34m,\u001b[0m \u001b[0mself\u001b[0m\u001b[0;34m.\u001b[0m\u001b[0mparameters_views\u001b[0m\u001b[0;34m[\u001b[0m\u001b[0;36m1\u001b[0m\u001b[0;34m]\u001b[0m\u001b[0;34m)\u001b[0m \u001b[0;32mfor\u001b[0m \u001b[0mxi\u001b[0m \u001b[0;32min\u001b[0m \u001b[0mX_tests\u001b[0m\u001b[0;34m[\u001b[0m\u001b[0;36m1\u001b[0m\u001b[0;34m]\u001b[0m\u001b[0;34m]\u001b[0m\u001b[0;34m\u001b[0m\u001b[0;34m\u001b[0m\u001b[0m\n\u001b[1;32m     85\u001b[0m         \u001b[0mself\u001b[0m\u001b[0;34m.\u001b[0m\u001b[0mdensities_view3\u001b[0m \u001b[0;34m=\u001b[0m  \u001b[0;34m[\u001b[0m\u001b[0mself\u001b[0m\u001b[0;34m.\u001b[0m\u001b[0mcalc_density\u001b[0m\u001b[0;34m(\u001b[0m\u001b[0mxi\u001b[0m\u001b[0;34m,\u001b[0m \u001b[0mself\u001b[0m\u001b[0;34m.\u001b[0m\u001b[0mparameters_views\u001b[0m\u001b[0;34m[\u001b[0m\u001b[0;36m2\u001b[0m\u001b[0;34m]\u001b[0m\u001b[0;34m)\u001b[0m \u001b[0;32mfor\u001b[0m \u001b[0mxi\u001b[0m \u001b[0;32min\u001b[0m \u001b[0mX_tests\u001b[0m\u001b[0;34m[\u001b[0m\u001b[0;36m2\u001b[0m\u001b[0;34m]\u001b[0m\u001b[0;34m]\u001b[0m\u001b[0;34m\u001b[0m\u001b[0;34m\u001b[0m\u001b[0m\n",
      "\u001b[0;31mIndexError\u001b[0m: list index out of range"
     ]
    }
   ],
   "source": [
    "list_acc_knn = []\n",
    "\n",
    "\n",
    "for i in trange(0, 30):\n",
    "    acc_fold = []\n",
    "    for train_index, test_index in kf.split(np.array(X_train_mfeat)):\n",
    "       \n",
    "        X_trains = []\n",
    "        y_train_views = []\n",
    "        X_tests = []\n",
    "    \n",
    "        X_train_view1, X_test_view1 = mfeat[train_index], mfeat[test_index]\n",
    "        y_train_view1, y_test_view1 = y[train_index], y[test_index]\n",
    "      \n",
    "       \n",
    "       \n",
    "        X_train_view2, X_test_view2 = mfeatFou[train_index], mfeatFou[test_index]\n",
    "        y_train_view2, y_test_view2 = y[train_index], y[test_index]\n",
    "       \n",
    "   \n",
    "\n",
    "        X_train_view3, X_test_view3 = mfeatKa[train_index], mfeatKa[test_index]\n",
    "        y_train_view3, y_test_view3 = y[train_index], y[test_index]\n",
    "        \n",
    "  \n",
    "        \n",
    "        ##Values   \n",
    "        X_trains = [X_train_view1, X_train_view2, X_train_view3]\n",
    "        y_trains = [y_train_view1, y_train_view2, y_train_view3]\n",
    "        X_tests = [X_test_view1, X_test_view2, X_test_view3]\n",
    "        k = KNN()\n",
    "        \n",
    "        k.fit(X_trains=X_trains, y_trains=y_trains, k=7)\n",
    "        \n",
    "        y_pred = k.predict(X_tests=X_tests);\n",
    "        \n",
    "        acc_fold = accuracy_score(y_test_view1, y_pred)\n",
    "        \n",
    "    list_acc_knn.append(np.mean(acc_fold))"
   ]
  },
  {
   "cell_type": "code",
   "execution_count": null,
   "metadata": {},
   "outputs": [],
   "source": [
    "np.mean(list_acc_n)"
   ]
  },
  {
   "cell_type": "code",
   "execution_count": 55,
   "metadata": {},
   "outputs": [
    {
     "data": {
      "text/plain": [
       "0.744"
      ]
     },
     "execution_count": 55,
     "metadata": {},
     "output_type": "execute_result"
    }
   ],
   "source": [
    "np.round(np.mean(list_acc_knn), 3)"
   ]
  },
  {
   "cell_type": "code",
   "execution_count": 56,
   "metadata": {},
   "outputs": [],
   "source": [
    "acc_knn = pd.DataFrame(list_acc_knn, columns=['acc'])\n",
    "acc_knn_csv = acc_knn.to_csv()\n",
    "arq = open(\"results/accuracy_knn\", \"w\")\n",
    "arq.write(acc_knn_csv)\n",
    "arq.close()"
   ]
  },
  {
   "cell_type": "code",
   "execution_count": null,
   "metadata": {},
   "outputs": [],
   "source": [
    "acc_naive = pd.DataFrame(list_acc_n, columns=['acc'])\n",
    "acc_naive_csv = acc_naive.to_csv()\n",
    "arq = open(\"results/accuracy_naive\", \"w\")\n",
    "arq.write(acc_naive_csv)\n",
    "arq.close()"
   ]
  },
  {
   "cell_type": "code",
   "execution_count": 57,
   "metadata": {},
   "outputs": [],
   "source": [
    "acc_naive = pd.read_csv(\"results/accuracy_naive\")"
   ]
  },
  {
   "cell_type": "code",
   "execution_count": 58,
   "metadata": {},
   "outputs": [],
   "source": [
    "acc_naive = acc_naive['acc'].values"
   ]
  },
  {
   "cell_type": "code",
   "execution_count": 59,
   "metadata": {},
   "outputs": [],
   "source": [
    "from scipy.stats import wilcoxon"
   ]
  },
  {
   "cell_type": "code",
   "execution_count": 60,
   "metadata": {},
   "outputs": [],
   "source": [
    "test = wilcoxon(acc_naive, list_acc_knn)"
   ]
  },
  {
   "cell_type": "code",
   "execution_count": 61,
   "metadata": {},
   "outputs": [
    {
     "data": {
      "text/plain": [
       "True"
      ]
     },
     "execution_count": 61,
     "metadata": {},
     "output_type": "execute_result"
    }
   ],
   "source": [
    "test.pvalue < 0.05"
   ]
  }
 ],
 "metadata": {
  "kernelspec": {
   "display_name": "Python 3",
   "language": "python",
   "name": "python3"
  },
  "language_info": {
   "codemirror_mode": {
    "name": "ipython",
    "version": 3
   },
   "file_extension": ".py",
   "mimetype": "text/x-python",
   "name": "python",
   "nbconvert_exporter": "python",
   "pygments_lexer": "ipython3",
   "version": "3.6.8"
  }
 },
 "nbformat": 4,
 "nbformat_minor": 2
}
